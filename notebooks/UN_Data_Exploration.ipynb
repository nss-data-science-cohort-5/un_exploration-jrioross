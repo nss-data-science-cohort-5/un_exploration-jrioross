{
 "cells": [
  {
   "cell_type": "code",
   "execution_count": 276,
   "id": "cdbf3133",
   "metadata": {},
   "outputs": [],
   "source": [
    "import pandas as pd\n",
    "import numpy as np\n",
    "import matplotlib.pyplot as plt\n",
    "import seaborn as sns\n",
    "from jupyterthemes import jtplot\n",
    "jtplot.style()\n",
    "\n",
    "%matplotlib inline"
   ]
  },
  {
   "cell_type": "markdown",
   "id": "dcbd7894",
   "metadata": {},
   "source": [
    "# Problem 5\n",
    "\n",
    "Using the pandas read_csv() function, read the GDP dataset into your notebook as a DataFrame called gdp_df.\n",
    "\n",
    "  * Take a look at the first 10 rows.\n",
    "  * Look at the last 5 rows. Do you see a problem?\n",
    "  * Redo the read_csv() call to correct this issue - do not modify the original csv file.\n",
    "\n"
   ]
  },
  {
   "cell_type": "code",
   "execution_count": 277,
   "id": "1609cee4",
   "metadata": {},
   "outputs": [],
   "source": [
    "#import gdp_df\n",
    "gdp_df = pd.read_csv('../data/gdp_per_capita.csv')"
   ]
  },
  {
   "cell_type": "code",
   "execution_count": 278,
   "id": "04a0d232",
   "metadata": {},
   "outputs": [
    {
     "data": {
      "text/html": [
       "<div>\n",
       "<style scoped>\n",
       "    .dataframe tbody tr th:only-of-type {\n",
       "        vertical-align: middle;\n",
       "    }\n",
       "\n",
       "    .dataframe tbody tr th {\n",
       "        vertical-align: top;\n",
       "    }\n",
       "\n",
       "    .dataframe thead th {\n",
       "        text-align: right;\n",
       "    }\n",
       "</style>\n",
       "<table border=\"1\" class=\"dataframe\">\n",
       "  <thead>\n",
       "    <tr style=\"text-align: right;\">\n",
       "      <th></th>\n",
       "      <th>Country or Area</th>\n",
       "      <th>Year</th>\n",
       "      <th>Value</th>\n",
       "      <th>Value Footnotes</th>\n",
       "    </tr>\n",
       "  </thead>\n",
       "  <tbody>\n",
       "    <tr>\n",
       "      <th>0</th>\n",
       "      <td>Afghanistan</td>\n",
       "      <td>2019</td>\n",
       "      <td>2065.036398</td>\n",
       "      <td>NaN</td>\n",
       "    </tr>\n",
       "    <tr>\n",
       "      <th>1</th>\n",
       "      <td>Afghanistan</td>\n",
       "      <td>2018</td>\n",
       "      <td>2033.779002</td>\n",
       "      <td>NaN</td>\n",
       "    </tr>\n",
       "    <tr>\n",
       "      <th>2</th>\n",
       "      <td>Afghanistan</td>\n",
       "      <td>2017</td>\n",
       "      <td>2058.383832</td>\n",
       "      <td>NaN</td>\n",
       "    </tr>\n",
       "    <tr>\n",
       "      <th>3</th>\n",
       "      <td>Afghanistan</td>\n",
       "      <td>2016</td>\n",
       "      <td>2057.062164</td>\n",
       "      <td>NaN</td>\n",
       "    </tr>\n",
       "    <tr>\n",
       "      <th>4</th>\n",
       "      <td>Afghanistan</td>\n",
       "      <td>2015</td>\n",
       "      <td>2068.265904</td>\n",
       "      <td>NaN</td>\n",
       "    </tr>\n",
       "    <tr>\n",
       "      <th>5</th>\n",
       "      <td>Afghanistan</td>\n",
       "      <td>2014</td>\n",
       "      <td>2102.385234</td>\n",
       "      <td>NaN</td>\n",
       "    </tr>\n",
       "    <tr>\n",
       "      <th>6</th>\n",
       "      <td>Afghanistan</td>\n",
       "      <td>2013</td>\n",
       "      <td>2116.465454</td>\n",
       "      <td>NaN</td>\n",
       "    </tr>\n",
       "    <tr>\n",
       "      <th>7</th>\n",
       "      <td>Afghanistan</td>\n",
       "      <td>2012</td>\n",
       "      <td>2075.491747</td>\n",
       "      <td>NaN</td>\n",
       "    </tr>\n",
       "    <tr>\n",
       "      <th>8</th>\n",
       "      <td>Afghanistan</td>\n",
       "      <td>2011</td>\n",
       "      <td>1904.559799</td>\n",
       "      <td>NaN</td>\n",
       "    </tr>\n",
       "    <tr>\n",
       "      <th>9</th>\n",
       "      <td>Afghanistan</td>\n",
       "      <td>2010</td>\n",
       "      <td>1957.029338</td>\n",
       "      <td>NaN</td>\n",
       "    </tr>\n",
       "  </tbody>\n",
       "</table>\n",
       "</div>"
      ],
      "text/plain": [
       "  Country or Area  Year        Value  Value Footnotes\n",
       "0     Afghanistan  2019  2065.036398              NaN\n",
       "1     Afghanistan  2018  2033.779002              NaN\n",
       "2     Afghanistan  2017  2058.383832              NaN\n",
       "3     Afghanistan  2016  2057.062164              NaN\n",
       "4     Afghanistan  2015  2068.265904              NaN\n",
       "5     Afghanistan  2014  2102.385234              NaN\n",
       "6     Afghanistan  2013  2116.465454              NaN\n",
       "7     Afghanistan  2012  2075.491747              NaN\n",
       "8     Afghanistan  2011  1904.559799              NaN\n",
       "9     Afghanistan  2010  1957.029338              NaN"
      ]
     },
     "execution_count": 278,
     "metadata": {},
     "output_type": "execute_result"
    }
   ],
   "source": [
    "#look at the first ten rows\n",
    "gdp_df.head(10)"
   ]
  },
  {
   "cell_type": "code",
   "execution_count": 279,
   "id": "e50ddde2",
   "metadata": {},
   "outputs": [
    {
     "data": {
      "text/html": [
       "<div>\n",
       "<style scoped>\n",
       "    .dataframe tbody tr th:only-of-type {\n",
       "        vertical-align: middle;\n",
       "    }\n",
       "\n",
       "    .dataframe tbody tr th {\n",
       "        vertical-align: top;\n",
       "    }\n",
       "\n",
       "    .dataframe thead th {\n",
       "        text-align: right;\n",
       "    }\n",
       "</style>\n",
       "<table border=\"1\" class=\"dataframe\">\n",
       "  <thead>\n",
       "    <tr style=\"text-align: right;\">\n",
       "      <th></th>\n",
       "      <th>Country or Area</th>\n",
       "      <th>Year</th>\n",
       "      <th>Value</th>\n",
       "      <th>Value Footnotes</th>\n",
       "    </tr>\n",
       "  </thead>\n",
       "  <tbody>\n",
       "    <tr>\n",
       "      <th>6865</th>\n",
       "      <td>Zimbabwe</td>\n",
       "      <td>1992</td>\n",
       "      <td>3054.889178</td>\n",
       "      <td>NaN</td>\n",
       "    </tr>\n",
       "    <tr>\n",
       "      <th>6866</th>\n",
       "      <td>Zimbabwe</td>\n",
       "      <td>1991</td>\n",
       "      <td>3426.598094</td>\n",
       "      <td>NaN</td>\n",
       "    </tr>\n",
       "    <tr>\n",
       "      <th>6867</th>\n",
       "      <td>Zimbabwe</td>\n",
       "      <td>1990</td>\n",
       "      <td>3324.348171</td>\n",
       "      <td>NaN</td>\n",
       "    </tr>\n",
       "    <tr>\n",
       "      <th>6868</th>\n",
       "      <td>footnoteSeqID</td>\n",
       "      <td>Footnote</td>\n",
       "      <td>NaN</td>\n",
       "      <td>NaN</td>\n",
       "    </tr>\n",
       "    <tr>\n",
       "      <th>6869</th>\n",
       "      <td>2</td>\n",
       "      <td>Excludes South Sudan after July 9, 2011.</td>\n",
       "      <td>NaN</td>\n",
       "      <td>NaN</td>\n",
       "    </tr>\n",
       "  </tbody>\n",
       "</table>\n",
       "</div>"
      ],
      "text/plain": [
       "     Country or Area                                      Year        Value  \\\n",
       "6865        Zimbabwe                                      1992  3054.889178   \n",
       "6866        Zimbabwe                                      1991  3426.598094   \n",
       "6867        Zimbabwe                                      1990  3324.348171   \n",
       "6868   footnoteSeqID                                  Footnote          NaN   \n",
       "6869               2  Excludes South Sudan after July 9, 2011.          NaN   \n",
       "\n",
       "      Value Footnotes  \n",
       "6865              NaN  \n",
       "6866              NaN  \n",
       "6867              NaN  \n",
       "6868              NaN  \n",
       "6869              NaN  "
      ]
     },
     "execution_count": 279,
     "metadata": {},
     "output_type": "execute_result"
    }
   ],
   "source": [
    "#look at the last 5 rows\n",
    "gdp_df.tail()"
   ]
  },
  {
   "cell_type": "markdown",
   "id": "09279f75",
   "metadata": {},
   "source": [
    "### Our footnotes import with the data!"
   ]
  },
  {
   "cell_type": "code",
   "execution_count": 280,
   "id": "d42b3498",
   "metadata": {},
   "outputs": [
    {
     "data": {
      "text/html": [
       "<div>\n",
       "<style scoped>\n",
       "    .dataframe tbody tr th:only-of-type {\n",
       "        vertical-align: middle;\n",
       "    }\n",
       "\n",
       "    .dataframe tbody tr th {\n",
       "        vertical-align: top;\n",
       "    }\n",
       "\n",
       "    .dataframe thead th {\n",
       "        text-align: right;\n",
       "    }\n",
       "</style>\n",
       "<table border=\"1\" class=\"dataframe\">\n",
       "  <thead>\n",
       "    <tr style=\"text-align: right;\">\n",
       "      <th></th>\n",
       "      <th>Country or Area</th>\n",
       "      <th>Year</th>\n",
       "      <th>Value</th>\n",
       "      <th>Value Footnotes</th>\n",
       "    </tr>\n",
       "  </thead>\n",
       "  <tbody>\n",
       "    <tr>\n",
       "      <th>6863</th>\n",
       "      <td>Zimbabwe</td>\n",
       "      <td>1994</td>\n",
       "      <td>3263.934978</td>\n",
       "      <td>NaN</td>\n",
       "    </tr>\n",
       "    <tr>\n",
       "      <th>6864</th>\n",
       "      <td>Zimbabwe</td>\n",
       "      <td>1993</td>\n",
       "      <td>3033.504852</td>\n",
       "      <td>NaN</td>\n",
       "    </tr>\n",
       "    <tr>\n",
       "      <th>6865</th>\n",
       "      <td>Zimbabwe</td>\n",
       "      <td>1992</td>\n",
       "      <td>3054.889178</td>\n",
       "      <td>NaN</td>\n",
       "    </tr>\n",
       "    <tr>\n",
       "      <th>6866</th>\n",
       "      <td>Zimbabwe</td>\n",
       "      <td>1991</td>\n",
       "      <td>3426.598094</td>\n",
       "      <td>NaN</td>\n",
       "    </tr>\n",
       "    <tr>\n",
       "      <th>6867</th>\n",
       "      <td>Zimbabwe</td>\n",
       "      <td>1990</td>\n",
       "      <td>3324.348171</td>\n",
       "      <td>NaN</td>\n",
       "    </tr>\n",
       "  </tbody>\n",
       "</table>\n",
       "</div>"
      ],
      "text/plain": [
       "     Country or Area  Year        Value  Value Footnotes\n",
       "6863        Zimbabwe  1994  3263.934978              NaN\n",
       "6864        Zimbabwe  1993  3033.504852              NaN\n",
       "6865        Zimbabwe  1992  3054.889178              NaN\n",
       "6866        Zimbabwe  1991  3426.598094              NaN\n",
       "6867        Zimbabwe  1990  3324.348171              NaN"
      ]
     },
     "execution_count": 280,
     "metadata": {},
     "output_type": "execute_result"
    }
   ],
   "source": [
    "#import with only 6868 rows\n",
    "\n",
    "gdp_df = pd.read_csv('../data/gdp_per_capita.csv', nrows = 6868)\n",
    "gdp_df.tail()"
   ]
  },
  {
   "cell_type": "markdown",
   "id": "0ee2559f",
   "metadata": {},
   "source": [
    "# Problem 6\n",
    "Drop the 'Value Footnotes' column, and rename the remaining columns to ‘Country’, ‘Year’, and ‘GDP_Per_Capita’."
   ]
  },
  {
   "cell_type": "code",
   "execution_count": 281,
   "id": "facbe2a0",
   "metadata": {},
   "outputs": [
    {
     "data": {
      "text/html": [
       "<div>\n",
       "<style scoped>\n",
       "    .dataframe tbody tr th:only-of-type {\n",
       "        vertical-align: middle;\n",
       "    }\n",
       "\n",
       "    .dataframe tbody tr th {\n",
       "        vertical-align: top;\n",
       "    }\n",
       "\n",
       "    .dataframe thead th {\n",
       "        text-align: right;\n",
       "    }\n",
       "</style>\n",
       "<table border=\"1\" class=\"dataframe\">\n",
       "  <thead>\n",
       "    <tr style=\"text-align: right;\">\n",
       "      <th></th>\n",
       "      <th>Country or Area</th>\n",
       "      <th>Year</th>\n",
       "      <th>Value</th>\n",
       "    </tr>\n",
       "  </thead>\n",
       "  <tbody>\n",
       "    <tr>\n",
       "      <th>0</th>\n",
       "      <td>Afghanistan</td>\n",
       "      <td>2019</td>\n",
       "      <td>2065.036398</td>\n",
       "    </tr>\n",
       "    <tr>\n",
       "      <th>1</th>\n",
       "      <td>Afghanistan</td>\n",
       "      <td>2018</td>\n",
       "      <td>2033.779002</td>\n",
       "    </tr>\n",
       "    <tr>\n",
       "      <th>2</th>\n",
       "      <td>Afghanistan</td>\n",
       "      <td>2017</td>\n",
       "      <td>2058.383832</td>\n",
       "    </tr>\n",
       "    <tr>\n",
       "      <th>3</th>\n",
       "      <td>Afghanistan</td>\n",
       "      <td>2016</td>\n",
       "      <td>2057.062164</td>\n",
       "    </tr>\n",
       "    <tr>\n",
       "      <th>4</th>\n",
       "      <td>Afghanistan</td>\n",
       "      <td>2015</td>\n",
       "      <td>2068.265904</td>\n",
       "    </tr>\n",
       "    <tr>\n",
       "      <th>...</th>\n",
       "      <td>...</td>\n",
       "      <td>...</td>\n",
       "      <td>...</td>\n",
       "    </tr>\n",
       "    <tr>\n",
       "      <th>6863</th>\n",
       "      <td>Zimbabwe</td>\n",
       "      <td>1994</td>\n",
       "      <td>3263.934978</td>\n",
       "    </tr>\n",
       "    <tr>\n",
       "      <th>6864</th>\n",
       "      <td>Zimbabwe</td>\n",
       "      <td>1993</td>\n",
       "      <td>3033.504852</td>\n",
       "    </tr>\n",
       "    <tr>\n",
       "      <th>6865</th>\n",
       "      <td>Zimbabwe</td>\n",
       "      <td>1992</td>\n",
       "      <td>3054.889178</td>\n",
       "    </tr>\n",
       "    <tr>\n",
       "      <th>6866</th>\n",
       "      <td>Zimbabwe</td>\n",
       "      <td>1991</td>\n",
       "      <td>3426.598094</td>\n",
       "    </tr>\n",
       "    <tr>\n",
       "      <th>6867</th>\n",
       "      <td>Zimbabwe</td>\n",
       "      <td>1990</td>\n",
       "      <td>3324.348171</td>\n",
       "    </tr>\n",
       "  </tbody>\n",
       "</table>\n",
       "<p>6868 rows × 3 columns</p>\n",
       "</div>"
      ],
      "text/plain": [
       "     Country or Area  Year        Value\n",
       "0        Afghanistan  2019  2065.036398\n",
       "1        Afghanistan  2018  2033.779002\n",
       "2        Afghanistan  2017  2058.383832\n",
       "3        Afghanistan  2016  2057.062164\n",
       "4        Afghanistan  2015  2068.265904\n",
       "...              ...   ...          ...\n",
       "6863        Zimbabwe  1994  3263.934978\n",
       "6864        Zimbabwe  1993  3033.504852\n",
       "6865        Zimbabwe  1992  3054.889178\n",
       "6866        Zimbabwe  1991  3426.598094\n",
       "6867        Zimbabwe  1990  3324.348171\n",
       "\n",
       "[6868 rows x 3 columns]"
      ]
     },
     "execution_count": 281,
     "metadata": {},
     "output_type": "execute_result"
    }
   ],
   "source": [
    "gdp_df.drop(columns = 'Value Footnotes', inplace = True)\n",
    "gdp_df"
   ]
  },
  {
   "cell_type": "markdown",
   "id": "063e0a8f",
   "metadata": {},
   "source": [
    "# Problem 7\n",
    "How many rows and columns does gdp_df have? What are the data types of its columns? If any of the columns are not the expected types, figure out why and fix it."
   ]
  },
  {
   "cell_type": "code",
   "execution_count": 282,
   "id": "6f11afc3",
   "metadata": {},
   "outputs": [
    {
     "name": "stdout",
     "output_type": "stream",
     "text": [
      "<class 'pandas.core.frame.DataFrame'>\n",
      "RangeIndex: 6868 entries, 0 to 6867\n",
      "Data columns (total 3 columns):\n",
      " #   Column           Non-Null Count  Dtype  \n",
      "---  ------           --------------  -----  \n",
      " 0   Country or Area  6868 non-null   object \n",
      " 1   Year             6868 non-null   int64  \n",
      " 2   Value            6868 non-null   float64\n",
      "dtypes: float64(1), int64(1), object(1)\n",
      "memory usage: 161.1+ KB\n"
     ]
    }
   ],
   "source": [
    "gdp_df.info()"
   ]
  },
  {
   "cell_type": "markdown",
   "id": "5775d0e4",
   "metadata": {},
   "source": [
    "The dataset has 6868 rows and 3 columns. None of the types are unexpected; however, it might be handy to have 'Year' as a datetime, so let's convert that."
   ]
  },
  {
   "cell_type": "code",
   "execution_count": 283,
   "id": "851d6539",
   "metadata": {},
   "outputs": [],
   "source": [
    "#gdp_df['Year'] = pd.to_datetime(gdp_df['Year'], format = '%Y')"
   ]
  },
  {
   "cell_type": "code",
   "execution_count": 284,
   "id": "8c3951ef",
   "metadata": {},
   "outputs": [],
   "source": [
    "#info\n",
    "#gdp_df.info()"
   ]
  },
  {
   "cell_type": "code",
   "execution_count": 285,
   "id": "5eaa1417",
   "metadata": {},
   "outputs": [],
   "source": [
    "#gdp_df['Year'].head()"
   ]
  },
  {
   "cell_type": "markdown",
   "id": "0b19502b",
   "metadata": {},
   "source": [
    "# Problem 8\n",
    "Which years are represented in this dataset? Take a look at the number of observations per year. What do you notice?"
   ]
  },
  {
   "cell_type": "code",
   "execution_count": 286,
   "id": "558eede3",
   "metadata": {},
   "outputs": [
    {
     "data": {
      "text/plain": [
       "Year\n",
       "1990    207\n",
       "1991    208\n",
       "1992    209\n",
       "1993    212\n",
       "1994    214\n",
       "1995    221\n",
       "1996    221\n",
       "1997    223\n",
       "1998    223\n",
       "1999    224\n",
       "2000    231\n",
       "2001    232\n",
       "2002    233\n",
       "2003    233\n",
       "2004    234\n",
       "2005    234\n",
       "2006    235\n",
       "2007    235\n",
       "2008    235\n",
       "2009    236\n",
       "2010    236\n",
       "2011    237\n",
       "2012    237\n",
       "2013    238\n",
       "2014    238\n",
       "2015    238\n",
       "2016    238\n",
       "2017    238\n",
       "2018    237\n",
       "2019    231\n",
       "Name: Country or Area, dtype: int64"
      ]
     },
     "execution_count": 286,
     "metadata": {},
     "output_type": "execute_result"
    }
   ],
   "source": [
    "gdp_df.groupby('Year')['Country or Area'].count()"
   ]
  },
  {
   "cell_type": "code",
   "execution_count": 287,
   "id": "f6f72bb1",
   "metadata": {},
   "outputs": [
    {
     "data": {
      "image/png": "[encoded data removed]",
      "text/plain": [
       "<Figure size 432x288 with 1 Axes>"
      ]
     },
     "metadata": {
      "needs_background": "dark"
     },
     "output_type": "display_data"
    }
   ],
   "source": [
    "sns.barplot(x = gdp_df.groupby('Year')['Country or Area'].count().index,\n",
    "            y = gdp_df.groupby('Year')['Country or Area'].count())\n",
    "\n",
    "ticks = plt.xticks(rotation = 90)"
   ]
  },
  {
   "cell_type": "markdown",
   "id": "b603295f",
   "metadata": {},
   "source": [
    "The years range from 1990 to 2019. A given year-country pair gets one row in the data set. Over the 30 years, the entries per year gradually increase, with the exception of 2019, where the total countries drops by 6."
   ]
  },
  {
   "cell_type": "markdown",
   "id": "96aac483",
   "metadata": {},
   "source": [
    "# Problem 9\n",
    "How many countries are represented in this dataset?\n",
    "\n",
    "Which countries are least represented in the dataset?\n",
    "\n",
    "Why do you think these countries have so few observations?"
   ]
  },
  {
   "cell_type": "code",
   "execution_count": 288,
   "id": "9e281052",
   "metadata": {},
   "outputs": [
    {
     "data": {
      "text/plain": [
       "Bangladesh                   30\n",
       "Bahrain                      30\n",
       "Uzbekistan                   30\n",
       "Slovenia                     30\n",
       "Brunei                       30\n",
       "                             ..\n",
       "Nauru                        16\n",
       "Cayman Islands               13\n",
       "Sint Maarten (Dutch part)    10\n",
       "Turks and Caicos Islands      9\n",
       "Djibouti                      7\n",
       "Name: Country or Area, Length: 238, dtype: int64"
      ]
     },
     "execution_count": 288,
     "metadata": {},
     "output_type": "execute_result"
    }
   ],
   "source": [
    "#How many countries are in this dataset?\n",
    "gdp_df['Country or Area'].value_counts()"
   ]
  },
  {
   "cell_type": "code",
   "execution_count": 289,
   "id": "e489b99e",
   "metadata": {},
   "outputs": [
    {
     "data": {
      "text/plain": [
       "Kosovo                       20\n",
       "Liberia                      20\n",
       "CuraÃ§ao                     20\n",
       "SÃ£o TomÃ© and Principe      19\n",
       "Afghanistan                  18\n",
       "Nauru                        16\n",
       "Cayman Islands               13\n",
       "Sint Maarten (Dutch part)    10\n",
       "Turks and Caicos Islands      9\n",
       "Djibouti                      7\n",
       "Name: Country or Area, dtype: int64"
      ]
     },
     "execution_count": 289,
     "metadata": {},
     "output_type": "execute_result"
    }
   ],
   "source": [
    "#Which countries are least represented in the dataset?\n",
    "gdp_df['Country or Area'].value_counts().tail(10)"
   ]
  },
  {
   "cell_type": "markdown",
   "id": "dfdc3f85",
   "metadata": {},
   "source": [
    "There are 238 distinct countries in the dataset. The least represented countries are shown above. I would guess these countries were not officially recognized until the years when they appear in the dataset."
   ]
  },
  {
   "cell_type": "markdown",
   "id": "35b9633d",
   "metadata": {},
   "source": [
    "# Problem 10\n",
    "Create a new dataframe by subsetting gdp_df to just the year 2014. Call this new dataframe gdp_2014."
   ]
  },
  {
   "cell_type": "code",
   "execution_count": 290,
   "id": "21052b4e",
   "metadata": {},
   "outputs": [],
   "source": [
    "gdp_2014 = gdp_df[gdp_df['Year'] == 2014]"
   ]
  },
  {
   "cell_type": "markdown",
   "id": "8048bbe2",
   "metadata": {},
   "source": [
    "# Problem 11\n",
    "Use .describe() to find the summary statistics for GDP per capita in 2014."
   ]
  },
  {
   "cell_type": "code",
   "execution_count": 291,
   "id": "dc8c809d",
   "metadata": {},
   "outputs": [
    {
     "data": {
      "text/html": [
       "<div>\n",
       "<style scoped>\n",
       "    .dataframe tbody tr th:only-of-type {\n",
       "        vertical-align: middle;\n",
       "    }\n",
       "\n",
       "    .dataframe tbody tr th {\n",
       "        vertical-align: top;\n",
       "    }\n",
       "\n",
       "    .dataframe thead th {\n",
       "        text-align: right;\n",
       "    }\n",
       "</style>\n",
       "<table border=\"1\" class=\"dataframe\">\n",
       "  <thead>\n",
       "    <tr style=\"text-align: right;\">\n",
       "      <th></th>\n",
       "      <th>Year</th>\n",
       "      <th>Value</th>\n",
       "    </tr>\n",
       "  </thead>\n",
       "  <tbody>\n",
       "    <tr>\n",
       "      <th>count</th>\n",
       "      <td>238.0</td>\n",
       "      <td>238.000000</td>\n",
       "    </tr>\n",
       "    <tr>\n",
       "      <th>mean</th>\n",
       "      <td>2014.0</td>\n",
       "      <td>19766.710348</td>\n",
       "    </tr>\n",
       "    <tr>\n",
       "      <th>std</th>\n",
       "      <td>0.0</td>\n",
       "      <td>20983.869623</td>\n",
       "    </tr>\n",
       "    <tr>\n",
       "      <th>min</th>\n",
       "      <td>2014.0</td>\n",
       "      <td>822.610458</td>\n",
       "    </tr>\n",
       "    <tr>\n",
       "      <th>25%</th>\n",
       "      <td>2014.0</td>\n",
       "      <td>4753.110934</td>\n",
       "    </tr>\n",
       "    <tr>\n",
       "      <th>50%</th>\n",
       "      <td>2014.0</td>\n",
       "      <td>12209.385755</td>\n",
       "    </tr>\n",
       "    <tr>\n",
       "      <th>75%</th>\n",
       "      <td>2014.0</td>\n",
       "      <td>26803.610474</td>\n",
       "    </tr>\n",
       "    <tr>\n",
       "      <th>max</th>\n",
       "      <td>2014.0</td>\n",
       "      <td>156514.133850</td>\n",
       "    </tr>\n",
       "  </tbody>\n",
       "</table>\n",
       "</div>"
      ],
      "text/plain": [
       "         Year          Value\n",
       "count   238.0     238.000000\n",
       "mean   2014.0   19766.710348\n",
       "std       0.0   20983.869623\n",
       "min    2014.0     822.610458\n",
       "25%    2014.0    4753.110934\n",
       "50%    2014.0   12209.385755\n",
       "75%    2014.0   26803.610474\n",
       "max    2014.0  156514.133850"
      ]
     },
     "execution_count": 291,
     "metadata": {},
     "output_type": "execute_result"
    }
   ],
   "source": [
    "gdp_2014.describe()"
   ]
  },
  {
   "cell_type": "markdown",
   "id": "8d324622",
   "metadata": {},
   "source": [
    "# Problem 12\n",
    "Create a histogram of GDP Per Capita numbers for 2014 (you may wish to adjust the number of bins for your histogram). How would you describe the shape of the distribution?"
   ]
  },
  {
   "cell_type": "code",
   "execution_count": 292,
   "id": "b983e530",
   "metadata": {},
   "outputs": [
    {
     "data": {
      "text/plain": [
       "<AxesSubplot:xlabel='Value', ylabel='Count'>"
      ]
     },
     "execution_count": 292,
     "metadata": {},
     "output_type": "execute_result"
    },
    {
     "data": {
      "image/png": "[encoded data removed]",
      "text/plain": [
       "<Figure size 432x288 with 2 Axes>"
      ]
     },
     "metadata": {
      "needs_background": "dark"
     },
     "output_type": "display_data"
    }
   ],
   "source": [
    "fig, (ax1, ax2) = plt.subplots(1,2)\n",
    "\n",
    "sns.histplot(gdp_2014['Value'], ax = ax1)\n",
    "sns.histplot(gdp_2014['Value'], log_scale = True, ax = ax2)"
   ]
  },
  {
   "cell_type": "markdown",
   "id": "d62f2b72",
   "metadata": {},
   "source": [
    "The distribution is highly right-skewed. The histogram on the right shows that the distribution is log-normal."
   ]
  },
  {
   "cell_type": "markdown",
   "id": "2b77f79a",
   "metadata": {},
   "source": [
    "# Problem 13\n",
    "Find the top 5 counties and bottom 5 countries by GDP per capita in 2014."
   ]
  },
  {
   "cell_type": "code",
   "execution_count": 293,
   "id": "020fd40e",
   "metadata": {},
   "outputs": [
    {
     "data": {
      "text/html": [
       "<div>\n",
       "<style scoped>\n",
       "    .dataframe tbody tr th:only-of-type {\n",
       "        vertical-align: middle;\n",
       "    }\n",
       "\n",
       "    .dataframe tbody tr th {\n",
       "        vertical-align: top;\n",
       "    }\n",
       "\n",
       "    .dataframe thead th {\n",
       "        text-align: right;\n",
       "    }\n",
       "</style>\n",
       "<table border=\"1\" class=\"dataframe\">\n",
       "  <thead>\n",
       "    <tr style=\"text-align: right;\">\n",
       "      <th></th>\n",
       "      <th>Country or Area</th>\n",
       "      <th>Year</th>\n",
       "      <th>Value</th>\n",
       "    </tr>\n",
       "  </thead>\n",
       "  <tbody>\n",
       "    <tr>\n",
       "      <th>3721</th>\n",
       "      <td>Macao SAR, China</td>\n",
       "      <td>2014</td>\n",
       "      <td>156514.133850</td>\n",
       "    </tr>\n",
       "    <tr>\n",
       "      <th>3691</th>\n",
       "      <td>Luxembourg</td>\n",
       "      <td>2014</td>\n",
       "      <td>108760.916030</td>\n",
       "    </tr>\n",
       "    <tr>\n",
       "      <th>5138</th>\n",
       "      <td>Qatar</td>\n",
       "      <td>2014</td>\n",
       "      <td>95578.416973</td>\n",
       "    </tr>\n",
       "    <tr>\n",
       "      <th>5464</th>\n",
       "      <td>Singapore</td>\n",
       "      <td>2014</td>\n",
       "      <td>87808.663157</td>\n",
       "    </tr>\n",
       "    <tr>\n",
       "      <th>561</th>\n",
       "      <td>Bermuda</td>\n",
       "      <td>2014</td>\n",
       "      <td>77361.104881</td>\n",
       "    </tr>\n",
       "  </tbody>\n",
       "</table>\n",
       "</div>"
      ],
      "text/plain": [
       "       Country or Area  Year          Value\n",
       "3721  Macao SAR, China  2014  156514.133850\n",
       "3691        Luxembourg  2014  108760.916030\n",
       "5138             Qatar  2014   95578.416973\n",
       "5464         Singapore  2014   87808.663157\n",
       "561            Bermuda  2014   77361.104881"
      ]
     },
     "execution_count": 293,
     "metadata": {},
     "output_type": "execute_result"
    }
   ],
   "source": [
    "#top 5 in 2014\n",
    "gdp_2014.sort_values('Value', ascending = False).head()"
   ]
  },
  {
   "cell_type": "code",
   "execution_count": 294,
   "id": "d733a5c8",
   "metadata": {},
   "outputs": [
    {
     "data": {
      "text/html": [
       "<div>\n",
       "<style scoped>\n",
       "    .dataframe tbody tr th:only-of-type {\n",
       "        vertical-align: middle;\n",
       "    }\n",
       "\n",
       "    .dataframe tbody tr th {\n",
       "        vertical-align: top;\n",
       "    }\n",
       "\n",
       "    .dataframe thead th {\n",
       "        text-align: right;\n",
       "    }\n",
       "</style>\n",
       "<table border=\"1\" class=\"dataframe\">\n",
       "  <thead>\n",
       "    <tr style=\"text-align: right;\">\n",
       "      <th></th>\n",
       "      <th>Country or Area</th>\n",
       "      <th>Year</th>\n",
       "      <th>Value</th>\n",
       "    </tr>\n",
       "  </thead>\n",
       "  <tbody>\n",
       "    <tr>\n",
       "      <th>4528</th>\n",
       "      <td>Niger</td>\n",
       "      <td>2014</td>\n",
       "      <td>1127.615541</td>\n",
       "    </tr>\n",
       "    <tr>\n",
       "      <th>1422</th>\n",
       "      <td>Dem. Rep. Congo</td>\n",
       "      <td>2014</td>\n",
       "      <td>1029.790785</td>\n",
       "    </tr>\n",
       "    <tr>\n",
       "      <th>3781</th>\n",
       "      <td>Malawi</td>\n",
       "      <td>2014</td>\n",
       "      <td>1027.208496</td>\n",
       "    </tr>\n",
       "    <tr>\n",
       "      <th>827</th>\n",
       "      <td>Burundi</td>\n",
       "      <td>2014</td>\n",
       "      <td>886.235777</td>\n",
       "    </tr>\n",
       "    <tr>\n",
       "      <th>1047</th>\n",
       "      <td>Central African Republic</td>\n",
       "      <td>2014</td>\n",
       "      <td>822.610458</td>\n",
       "    </tr>\n",
       "  </tbody>\n",
       "</table>\n",
       "</div>"
      ],
      "text/plain": [
       "               Country or Area  Year        Value\n",
       "4528                     Niger  2014  1127.615541\n",
       "1422           Dem. Rep. Congo  2014  1029.790785\n",
       "3781                    Malawi  2014  1027.208496\n",
       "827                    Burundi  2014   886.235777\n",
       "1047  Central African Republic  2014   822.610458"
      ]
     },
     "execution_count": 294,
     "metadata": {},
     "output_type": "execute_result"
    }
   ],
   "source": [
    "#bottom 5 in 2014\n",
    "gdp_2014.sort_values('Value', ascending = False).tail()"
   ]
  },
  {
   "cell_type": "markdown",
   "id": "bfb06ad9",
   "metadata": {},
   "source": [
    "# Problem 14\n",
    "Now, return to the full dataset, gdp_df. Pivot the data for 1990 and 2017 (using the pandas .pivot_table() method or another method) so that each row corresponds to a country, each column corresponds to a year, and the values in the table give the GDP_Per_Capita amount. Drop any rows that are missing values for either 1990 or 2017. Save the result to a dataframe named gdp_pivoted."
   ]
  },
  {
   "cell_type": "code",
   "execution_count": 295,
   "id": "b3453edf",
   "metadata": {},
   "outputs": [
    {
     "data": {
      "text/html": [
       "<div>\n",
       "<style scoped>\n",
       "    .dataframe tbody tr th:only-of-type {\n",
       "        vertical-align: middle;\n",
       "    }\n",
       "\n",
       "    .dataframe tbody tr th {\n",
       "        vertical-align: top;\n",
       "    }\n",
       "\n",
       "    .dataframe thead th {\n",
       "        text-align: right;\n",
       "    }\n",
       "</style>\n",
       "<table border=\"1\" class=\"dataframe\">\n",
       "  <thead>\n",
       "    <tr style=\"text-align: right;\">\n",
       "      <th>Year</th>\n",
       "      <th>1990</th>\n",
       "      <th>1991</th>\n",
       "      <th>1992</th>\n",
       "      <th>1993</th>\n",
       "      <th>1994</th>\n",
       "      <th>1995</th>\n",
       "      <th>1996</th>\n",
       "      <th>1997</th>\n",
       "      <th>1998</th>\n",
       "      <th>1999</th>\n",
       "      <th>...</th>\n",
       "      <th>2010</th>\n",
       "      <th>2011</th>\n",
       "      <th>2012</th>\n",
       "      <th>2013</th>\n",
       "      <th>2014</th>\n",
       "      <th>2015</th>\n",
       "      <th>2016</th>\n",
       "      <th>2017</th>\n",
       "      <th>2018</th>\n",
       "      <th>2019</th>\n",
       "    </tr>\n",
       "    <tr>\n",
       "      <th>Country or Area</th>\n",
       "      <th></th>\n",
       "      <th></th>\n",
       "      <th></th>\n",
       "      <th></th>\n",
       "      <th></th>\n",
       "      <th></th>\n",
       "      <th></th>\n",
       "      <th></th>\n",
       "      <th></th>\n",
       "      <th></th>\n",
       "      <th></th>\n",
       "      <th></th>\n",
       "      <th></th>\n",
       "      <th></th>\n",
       "      <th></th>\n",
       "      <th></th>\n",
       "      <th></th>\n",
       "      <th></th>\n",
       "      <th></th>\n",
       "      <th></th>\n",
       "      <th></th>\n",
       "    </tr>\n",
       "  </thead>\n",
       "  <tbody>\n",
       "    <tr>\n",
       "      <th>Albania</th>\n",
       "      <td>4842.734635</td>\n",
       "      <td>3507.746654</td>\n",
       "      <td>3275.444336</td>\n",
       "      <td>3610.520633</td>\n",
       "      <td>3934.375728</td>\n",
       "      <td>4486.152092</td>\n",
       "      <td>4924.905836</td>\n",
       "      <td>4414.631173</td>\n",
       "      <td>4834.778357</td>\n",
       "      <td>5492.654212</td>\n",
       "      <td>...</td>\n",
       "      <td>10783.816180</td>\n",
       "      <td>11088.087801</td>\n",
       "      <td>11263.851342</td>\n",
       "      <td>11397.576226</td>\n",
       "      <td>11623.866679</td>\n",
       "      <td>11916.422315</td>\n",
       "      <td>12331.127754</td>\n",
       "      <td>12811.759436</td>\n",
       "      <td>13366.303065</td>\n",
       "      <td>13724.058790</td>\n",
       "    </tr>\n",
       "    <tr>\n",
       "      <th>Algeria</th>\n",
       "      <td>8746.352901</td>\n",
       "      <td>8431.385028</td>\n",
       "      <td>8383.770248</td>\n",
       "      <td>8027.376688</td>\n",
       "      <td>7792.085182</td>\n",
       "      <td>7935.179841</td>\n",
       "      <td>8116.962721</td>\n",
       "      <td>8074.759953</td>\n",
       "      <td>8360.150339</td>\n",
       "      <td>8506.345679</td>\n",
       "      <td>...</td>\n",
       "      <td>10970.705149</td>\n",
       "      <td>11078.240516</td>\n",
       "      <td>11233.534926</td>\n",
       "      <td>11319.097949</td>\n",
       "      <td>11512.705405</td>\n",
       "      <td>11696.963757</td>\n",
       "      <td>11826.164666</td>\n",
       "      <td>11737.409353</td>\n",
       "      <td>11642.194485</td>\n",
       "      <td>11510.557088</td>\n",
       "    </tr>\n",
       "    <tr>\n",
       "      <th>Angola</th>\n",
       "      <td>5783.429064</td>\n",
       "      <td>5649.782130</td>\n",
       "      <td>5148.252824</td>\n",
       "      <td>3788.508107</td>\n",
       "      <td>3717.366881</td>\n",
       "      <td>4139.640473</td>\n",
       "      <td>4551.651329</td>\n",
       "      <td>4728.157560</td>\n",
       "      <td>4792.683851</td>\n",
       "      <td>4740.669833</td>\n",
       "      <td>...</td>\n",
       "      <td>7692.434616</td>\n",
       "      <td>7675.445768</td>\n",
       "      <td>8036.690482</td>\n",
       "      <td>8140.527851</td>\n",
       "      <td>8239.828837</td>\n",
       "      <td>8036.410610</td>\n",
       "      <td>7568.997643</td>\n",
       "      <td>7310.901738</td>\n",
       "      <td>6933.505560</td>\n",
       "      <td>6670.332297</td>\n",
       "    </tr>\n",
       "    <tr>\n",
       "      <th>Antigua and Barbuda</th>\n",
       "      <td>15459.551675</td>\n",
       "      <td>15586.896172</td>\n",
       "      <td>15497.464744</td>\n",
       "      <td>15991.764201</td>\n",
       "      <td>16697.248772</td>\n",
       "      <td>15628.396992</td>\n",
       "      <td>16303.723892</td>\n",
       "      <td>16828.640823</td>\n",
       "      <td>17258.964856</td>\n",
       "      <td>17551.305968</td>\n",
       "      <td>...</td>\n",
       "      <td>18205.985369</td>\n",
       "      <td>17604.417102</td>\n",
       "      <td>17965.502327</td>\n",
       "      <td>17641.542533</td>\n",
       "      <td>18104.241470</td>\n",
       "      <td>18595.084904</td>\n",
       "      <td>19417.964819</td>\n",
       "      <td>19840.076123</td>\n",
       "      <td>21115.798269</td>\n",
       "      <td>21910.184985</td>\n",
       "    </tr>\n",
       "    <tr>\n",
       "      <th>Arab World</th>\n",
       "      <td>9694.667544</td>\n",
       "      <td>9651.626577</td>\n",
       "      <td>9933.531454</td>\n",
       "      <td>9927.649928</td>\n",
       "      <td>9957.387061</td>\n",
       "      <td>9913.934988</td>\n",
       "      <td>10136.058519</td>\n",
       "      <td>10311.064917</td>\n",
       "      <td>10624.718674</td>\n",
       "      <td>10606.027497</td>\n",
       "      <td>...</td>\n",
       "      <td>13347.112066</td>\n",
       "      <td>13531.438796</td>\n",
       "      <td>14032.961703</td>\n",
       "      <td>14155.876986</td>\n",
       "      <td>14219.562395</td>\n",
       "      <td>14441.436785</td>\n",
       "      <td>14663.549625</td>\n",
       "      <td>14555.474921</td>\n",
       "      <td>14622.065826</td>\n",
       "      <td>14602.938214</td>\n",
       "    </tr>\n",
       "    <tr>\n",
       "      <th>...</th>\n",
       "      <td>...</td>\n",
       "      <td>...</td>\n",
       "      <td>...</td>\n",
       "      <td>...</td>\n",
       "      <td>...</td>\n",
       "      <td>...</td>\n",
       "      <td>...</td>\n",
       "      <td>...</td>\n",
       "      <td>...</td>\n",
       "      <td>...</td>\n",
       "      <td>...</td>\n",
       "      <td>...</td>\n",
       "      <td>...</td>\n",
       "      <td>...</td>\n",
       "      <td>...</td>\n",
       "      <td>...</td>\n",
       "      <td>...</td>\n",
       "      <td>...</td>\n",
       "      <td>...</td>\n",
       "      <td>...</td>\n",
       "      <td>...</td>\n",
       "    </tr>\n",
       "    <tr>\n",
       "      <th>Vanuatu</th>\n",
       "      <td>2888.309393</td>\n",
       "      <td>2897.327707</td>\n",
       "      <td>2886.920558</td>\n",
       "      <td>2824.882319</td>\n",
       "      <td>2999.097317</td>\n",
       "      <td>2956.627999</td>\n",
       "      <td>2962.647258</td>\n",
       "      <td>3051.178566</td>\n",
       "      <td>3033.908413</td>\n",
       "      <td>2989.091261</td>\n",
       "      <td>...</td>\n",
       "      <td>3239.887824</td>\n",
       "      <td>3192.453639</td>\n",
       "      <td>3159.338400</td>\n",
       "      <td>3131.971868</td>\n",
       "      <td>3116.077025</td>\n",
       "      <td>3037.784742</td>\n",
       "      <td>3061.787240</td>\n",
       "      <td>3116.645194</td>\n",
       "      <td>3128.469953</td>\n",
       "      <td>3153.015168</td>\n",
       "    </tr>\n",
       "    <tr>\n",
       "      <th>Vietnam</th>\n",
       "      <td>1673.249634</td>\n",
       "      <td>1736.014139</td>\n",
       "      <td>1847.620675</td>\n",
       "      <td>1957.644497</td>\n",
       "      <td>2091.599402</td>\n",
       "      <td>2252.633886</td>\n",
       "      <td>2425.526266</td>\n",
       "      <td>2587.055148</td>\n",
       "      <td>2701.770578</td>\n",
       "      <td>2797.785536</td>\n",
       "      <td>...</td>\n",
       "      <td>5089.411248</td>\n",
       "      <td>5352.011422</td>\n",
       "      <td>5574.458880</td>\n",
       "      <td>5815.118920</td>\n",
       "      <td>6098.489609</td>\n",
       "      <td>6438.260271</td>\n",
       "      <td>6767.902495</td>\n",
       "      <td>7155.745829</td>\n",
       "      <td>7586.384939</td>\n",
       "      <td>8041.178551</td>\n",
       "    </tr>\n",
       "    <tr>\n",
       "      <th>World</th>\n",
       "      <td>9680.269697</td>\n",
       "      <td>9645.256163</td>\n",
       "      <td>9647.070526</td>\n",
       "      <td>9657.888486</td>\n",
       "      <td>9783.828893</td>\n",
       "      <td>9943.132889</td>\n",
       "      <td>10167.967706</td>\n",
       "      <td>10396.385330</td>\n",
       "      <td>10508.291266</td>\n",
       "      <td>10731.543649</td>\n",
       "      <td>...</td>\n",
       "      <td>13904.629132</td>\n",
       "      <td>14275.461871</td>\n",
       "      <td>14554.850133</td>\n",
       "      <td>14857.762340</td>\n",
       "      <td>15189.648507</td>\n",
       "      <td>15516.986524</td>\n",
       "      <td>15837.382961</td>\n",
       "      <td>16253.385518</td>\n",
       "      <td>16636.415941</td>\n",
       "      <td>16911.193295</td>\n",
       "    </tr>\n",
       "    <tr>\n",
       "      <th>Zambia</th>\n",
       "      <td>2190.182814</td>\n",
       "      <td>2133.689042</td>\n",
       "      <td>2045.973257</td>\n",
       "      <td>2133.263108</td>\n",
       "      <td>1902.393940</td>\n",
       "      <td>1908.699005</td>\n",
       "      <td>1974.616550</td>\n",
       "      <td>1994.849503</td>\n",
       "      <td>1933.003375</td>\n",
       "      <td>1968.215803</td>\n",
       "      <td>...</td>\n",
       "      <td>3125.529308</td>\n",
       "      <td>3201.289398</td>\n",
       "      <td>3339.276135</td>\n",
       "      <td>3399.712999</td>\n",
       "      <td>3450.046561</td>\n",
       "      <td>3443.555206</td>\n",
       "      <td>3467.875156</td>\n",
       "      <td>3485.005238</td>\n",
       "      <td>3521.520144</td>\n",
       "      <td>3470.448801</td>\n",
       "    </tr>\n",
       "    <tr>\n",
       "      <th>Zimbabwe</th>\n",
       "      <td>3324.348171</td>\n",
       "      <td>3426.598094</td>\n",
       "      <td>3054.889178</td>\n",
       "      <td>3033.504852</td>\n",
       "      <td>3263.934978</td>\n",
       "      <td>3226.413930</td>\n",
       "      <td>3520.430146</td>\n",
       "      <td>3580.048793</td>\n",
       "      <td>3653.920016</td>\n",
       "      <td>3600.849291</td>\n",
       "      <td>...</td>\n",
       "      <td>2273.200073</td>\n",
       "      <td>2556.278431</td>\n",
       "      <td>2932.081336</td>\n",
       "      <td>2937.725624</td>\n",
       "      <td>2955.240287</td>\n",
       "      <td>2958.209004</td>\n",
       "      <td>2934.733650</td>\n",
       "      <td>3028.245976</td>\n",
       "      <td>3130.029501</td>\n",
       "      <td>2835.948532</td>\n",
       "    </tr>\n",
       "  </tbody>\n",
       "</table>\n",
       "<p>207 rows × 30 columns</p>\n",
       "</div>"
      ],
      "text/plain": [
       "Year                         1990          1991          1992          1993  \\\n",
       "Country or Area                                                               \n",
       "Albania               4842.734635   3507.746654   3275.444336   3610.520633   \n",
       "Algeria               8746.352901   8431.385028   8383.770248   8027.376688   \n",
       "Angola                5783.429064   5649.782130   5148.252824   3788.508107   \n",
       "Antigua and Barbuda  15459.551675  15586.896172  15497.464744  15991.764201   \n",
       "Arab World            9694.667544   9651.626577   9933.531454   9927.649928   \n",
       "...                           ...           ...           ...           ...   \n",
       "Vanuatu               2888.309393   2897.327707   2886.920558   2824.882319   \n",
       "Vietnam               1673.249634   1736.014139   1847.620675   1957.644497   \n",
       "World                 9680.269697   9645.256163   9647.070526   9657.888486   \n",
       "Zambia                2190.182814   2133.689042   2045.973257   2133.263108   \n",
       "Zimbabwe              3324.348171   3426.598094   3054.889178   3033.504852   \n",
       "\n",
       "Year                         1994          1995          1996          1997  \\\n",
       "Country or Area                                                               \n",
       "Albania               3934.375728   4486.152092   4924.905836   4414.631173   \n",
       "Algeria               7792.085182   7935.179841   8116.962721   8074.759953   \n",
       "Angola                3717.366881   4139.640473   4551.651329   4728.157560   \n",
       "Antigua and Barbuda  16697.248772  15628.396992  16303.723892  16828.640823   \n",
       "Arab World            9957.387061   9913.934988  10136.058519  10311.064917   \n",
       "...                           ...           ...           ...           ...   \n",
       "Vanuatu               2999.097317   2956.627999   2962.647258   3051.178566   \n",
       "Vietnam               2091.599402   2252.633886   2425.526266   2587.055148   \n",
       "World                 9783.828893   9943.132889  10167.967706  10396.385330   \n",
       "Zambia                1902.393940   1908.699005   1974.616550   1994.849503   \n",
       "Zimbabwe              3263.934978   3226.413930   3520.430146   3580.048793   \n",
       "\n",
       "Year                         1998          1999  ...          2010  \\\n",
       "Country or Area                                  ...                 \n",
       "Albania               4834.778357   5492.654212  ...  10783.816180   \n",
       "Algeria               8360.150339   8506.345679  ...  10970.705149   \n",
       "Angola                4792.683851   4740.669833  ...   7692.434616   \n",
       "Antigua and Barbuda  17258.964856  17551.305968  ...  18205.985369   \n",
       "Arab World           10624.718674  10606.027497  ...  13347.112066   \n",
       "...                           ...           ...  ...           ...   \n",
       "Vanuatu               3033.908413   2989.091261  ...   3239.887824   \n",
       "Vietnam               2701.770578   2797.785536  ...   5089.411248   \n",
       "World                10508.291266  10731.543649  ...  13904.629132   \n",
       "Zambia                1933.003375   1968.215803  ...   3125.529308   \n",
       "Zimbabwe              3653.920016   3600.849291  ...   2273.200073   \n",
       "\n",
       "Year                         2011          2012          2013          2014  \\\n",
       "Country or Area                                                               \n",
       "Albania              11088.087801  11263.851342  11397.576226  11623.866679   \n",
       "Algeria              11078.240516  11233.534926  11319.097949  11512.705405   \n",
       "Angola                7675.445768   8036.690482   8140.527851   8239.828837   \n",
       "Antigua and Barbuda  17604.417102  17965.502327  17641.542533  18104.241470   \n",
       "Arab World           13531.438796  14032.961703  14155.876986  14219.562395   \n",
       "...                           ...           ...           ...           ...   \n",
       "Vanuatu               3192.453639   3159.338400   3131.971868   3116.077025   \n",
       "Vietnam               5352.011422   5574.458880   5815.118920   6098.489609   \n",
       "World                14275.461871  14554.850133  14857.762340  15189.648507   \n",
       "Zambia                3201.289398   3339.276135   3399.712999   3450.046561   \n",
       "Zimbabwe              2556.278431   2932.081336   2937.725624   2955.240287   \n",
       "\n",
       "Year                         2015          2016          2017          2018  \\\n",
       "Country or Area                                                               \n",
       "Albania              11916.422315  12331.127754  12811.759436  13366.303065   \n",
       "Algeria              11696.963757  11826.164666  11737.409353  11642.194485   \n",
       "Angola                8036.410610   7568.997643   7310.901738   6933.505560   \n",
       "Antigua and Barbuda  18595.084904  19417.964819  19840.076123  21115.798269   \n",
       "Arab World           14441.436785  14663.549625  14555.474921  14622.065826   \n",
       "...                           ...           ...           ...           ...   \n",
       "Vanuatu               3037.784742   3061.787240   3116.645194   3128.469953   \n",
       "Vietnam               6438.260271   6767.902495   7155.745829   7586.384939   \n",
       "World                15516.986524  15837.382961  16253.385518  16636.415941   \n",
       "Zambia                3443.555206   3467.875156   3485.005238   3521.520144   \n",
       "Zimbabwe              2958.209004   2934.733650   3028.245976   3130.029501   \n",
       "\n",
       "Year                         2019  \n",
       "Country or Area                    \n",
       "Albania              13724.058790  \n",
       "Algeria              11510.557088  \n",
       "Angola                6670.332297  \n",
       "Antigua and Barbuda  21910.184985  \n",
       "Arab World           14602.938214  \n",
       "...                           ...  \n",
       "Vanuatu               3153.015168  \n",
       "Vietnam               8041.178551  \n",
       "World                16911.193295  \n",
       "Zambia                3470.448801  \n",
       "Zimbabwe              2835.948532  \n",
       "\n",
       "[207 rows x 30 columns]"
      ]
     },
     "execution_count": 295,
     "metadata": {},
     "output_type": "execute_result"
    }
   ],
   "source": [
    "gdp_pivoted = gdp_df.pivot_table(values = 'Value', index = 'Country or Area', columns = 'Year').dropna(subset = [1990, 2017])\n",
    "gdp_pivoted"
   ]
  },
  {
   "cell_type": "markdown",
   "id": "f45b0500",
   "metadata": {},
   "source": [
    "# Problem 15\n",
    "Create a new column in gdp_pivoted named Percent_Change. This column should contain the percent change in GDP_Per_Capita from 1990 to 2017. Hint: Percent change is calculated as 100*(New Value - Old Value) / Old Value."
   ]
  },
  {
   "cell_type": "code",
   "execution_count": 296,
   "id": "a1d7f2f7",
   "metadata": {},
   "outputs": [
    {
     "data": {
      "text/html": [
       "<div>\n",
       "<style scoped>\n",
       "    .dataframe tbody tr th:only-of-type {\n",
       "        vertical-align: middle;\n",
       "    }\n",
       "\n",
       "    .dataframe tbody tr th {\n",
       "        vertical-align: top;\n",
       "    }\n",
       "\n",
       "    .dataframe thead th {\n",
       "        text-align: right;\n",
       "    }\n",
       "</style>\n",
       "<table border=\"1\" class=\"dataframe\">\n",
       "  <thead>\n",
       "    <tr style=\"text-align: right;\">\n",
       "      <th>Year</th>\n",
       "      <th>1990</th>\n",
       "      <th>1991</th>\n",
       "      <th>1992</th>\n",
       "      <th>1993</th>\n",
       "      <th>1994</th>\n",
       "      <th>1995</th>\n",
       "      <th>1996</th>\n",
       "      <th>1997</th>\n",
       "      <th>1998</th>\n",
       "      <th>1999</th>\n",
       "      <th>...</th>\n",
       "      <th>2011</th>\n",
       "      <th>2012</th>\n",
       "      <th>2013</th>\n",
       "      <th>2014</th>\n",
       "      <th>2015</th>\n",
       "      <th>2016</th>\n",
       "      <th>2017</th>\n",
       "      <th>2018</th>\n",
       "      <th>2019</th>\n",
       "      <th>Percent_Change</th>\n",
       "    </tr>\n",
       "    <tr>\n",
       "      <th>Country or Area</th>\n",
       "      <th></th>\n",
       "      <th></th>\n",
       "      <th></th>\n",
       "      <th></th>\n",
       "      <th></th>\n",
       "      <th></th>\n",
       "      <th></th>\n",
       "      <th></th>\n",
       "      <th></th>\n",
       "      <th></th>\n",
       "      <th></th>\n",
       "      <th></th>\n",
       "      <th></th>\n",
       "      <th></th>\n",
       "      <th></th>\n",
       "      <th></th>\n",
       "      <th></th>\n",
       "      <th></th>\n",
       "      <th></th>\n",
       "      <th></th>\n",
       "      <th></th>\n",
       "    </tr>\n",
       "  </thead>\n",
       "  <tbody>\n",
       "    <tr>\n",
       "      <th>Albania</th>\n",
       "      <td>4842.734635</td>\n",
       "      <td>3507.746654</td>\n",
       "      <td>3275.444336</td>\n",
       "      <td>3610.520633</td>\n",
       "      <td>3934.375728</td>\n",
       "      <td>4486.152092</td>\n",
       "      <td>4924.905836</td>\n",
       "      <td>4414.631173</td>\n",
       "      <td>4834.778357</td>\n",
       "      <td>5492.654212</td>\n",
       "      <td>...</td>\n",
       "      <td>11088.087801</td>\n",
       "      <td>11263.851342</td>\n",
       "      <td>11397.576226</td>\n",
       "      <td>11623.866679</td>\n",
       "      <td>11916.422315</td>\n",
       "      <td>12331.127754</td>\n",
       "      <td>12811.759436</td>\n",
       "      <td>13366.303065</td>\n",
       "      <td>13724.058790</td>\n",
       "      <td>164.556297</td>\n",
       "    </tr>\n",
       "    <tr>\n",
       "      <th>Algeria</th>\n",
       "      <td>8746.352901</td>\n",
       "      <td>8431.385028</td>\n",
       "      <td>8383.770248</td>\n",
       "      <td>8027.376688</td>\n",
       "      <td>7792.085182</td>\n",
       "      <td>7935.179841</td>\n",
       "      <td>8116.962721</td>\n",
       "      <td>8074.759953</td>\n",
       "      <td>8360.150339</td>\n",
       "      <td>8506.345679</td>\n",
       "      <td>...</td>\n",
       "      <td>11078.240516</td>\n",
       "      <td>11233.534926</td>\n",
       "      <td>11319.097949</td>\n",
       "      <td>11512.705405</td>\n",
       "      <td>11696.963757</td>\n",
       "      <td>11826.164666</td>\n",
       "      <td>11737.409353</td>\n",
       "      <td>11642.194485</td>\n",
       "      <td>11510.557088</td>\n",
       "      <td>34.197756</td>\n",
       "    </tr>\n",
       "    <tr>\n",
       "      <th>Angola</th>\n",
       "      <td>5783.429064</td>\n",
       "      <td>5649.782130</td>\n",
       "      <td>5148.252824</td>\n",
       "      <td>3788.508107</td>\n",
       "      <td>3717.366881</td>\n",
       "      <td>4139.640473</td>\n",
       "      <td>4551.651329</td>\n",
       "      <td>4728.157560</td>\n",
       "      <td>4792.683851</td>\n",
       "      <td>4740.669833</td>\n",
       "      <td>...</td>\n",
       "      <td>7675.445768</td>\n",
       "      <td>8036.690482</td>\n",
       "      <td>8140.527851</td>\n",
       "      <td>8239.828837</td>\n",
       "      <td>8036.410610</td>\n",
       "      <td>7568.997643</td>\n",
       "      <td>7310.901738</td>\n",
       "      <td>6933.505560</td>\n",
       "      <td>6670.332297</td>\n",
       "      <td>26.411194</td>\n",
       "    </tr>\n",
       "    <tr>\n",
       "      <th>Antigua and Barbuda</th>\n",
       "      <td>15459.551675</td>\n",
       "      <td>15586.896172</td>\n",
       "      <td>15497.464744</td>\n",
       "      <td>15991.764201</td>\n",
       "      <td>16697.248772</td>\n",
       "      <td>15628.396992</td>\n",
       "      <td>16303.723892</td>\n",
       "      <td>16828.640823</td>\n",
       "      <td>17258.964856</td>\n",
       "      <td>17551.305968</td>\n",
       "      <td>...</td>\n",
       "      <td>17604.417102</td>\n",
       "      <td>17965.502327</td>\n",
       "      <td>17641.542533</td>\n",
       "      <td>18104.241470</td>\n",
       "      <td>18595.084904</td>\n",
       "      <td>19417.964819</td>\n",
       "      <td>19840.076123</td>\n",
       "      <td>21115.798269</td>\n",
       "      <td>21910.184985</td>\n",
       "      <td>28.335391</td>\n",
       "    </tr>\n",
       "    <tr>\n",
       "      <th>Arab World</th>\n",
       "      <td>9694.667544</td>\n",
       "      <td>9651.626577</td>\n",
       "      <td>9933.531454</td>\n",
       "      <td>9927.649928</td>\n",
       "      <td>9957.387061</td>\n",
       "      <td>9913.934988</td>\n",
       "      <td>10136.058519</td>\n",
       "      <td>10311.064917</td>\n",
       "      <td>10624.718674</td>\n",
       "      <td>10606.027497</td>\n",
       "      <td>...</td>\n",
       "      <td>13531.438796</td>\n",
       "      <td>14032.961703</td>\n",
       "      <td>14155.876986</td>\n",
       "      <td>14219.562395</td>\n",
       "      <td>14441.436785</td>\n",
       "      <td>14663.549625</td>\n",
       "      <td>14555.474921</td>\n",
       "      <td>14622.065826</td>\n",
       "      <td>14602.938214</td>\n",
       "      <td>50.138980</td>\n",
       "    </tr>\n",
       "    <tr>\n",
       "      <th>...</th>\n",
       "      <td>...</td>\n",
       "      <td>...</td>\n",
       "      <td>...</td>\n",
       "      <td>...</td>\n",
       "      <td>...</td>\n",
       "      <td>...</td>\n",
       "      <td>...</td>\n",
       "      <td>...</td>\n",
       "      <td>...</td>\n",
       "      <td>...</td>\n",
       "      <td>...</td>\n",
       "      <td>...</td>\n",
       "      <td>...</td>\n",
       "      <td>...</td>\n",
       "      <td>...</td>\n",
       "      <td>...</td>\n",
       "      <td>...</td>\n",
       "      <td>...</td>\n",
       "      <td>...</td>\n",
       "      <td>...</td>\n",
       "      <td>...</td>\n",
       "    </tr>\n",
       "    <tr>\n",
       "      <th>Vanuatu</th>\n",
       "      <td>2888.309393</td>\n",
       "      <td>2897.327707</td>\n",
       "      <td>2886.920558</td>\n",
       "      <td>2824.882319</td>\n",
       "      <td>2999.097317</td>\n",
       "      <td>2956.627999</td>\n",
       "      <td>2962.647258</td>\n",
       "      <td>3051.178566</td>\n",
       "      <td>3033.908413</td>\n",
       "      <td>2989.091261</td>\n",
       "      <td>...</td>\n",
       "      <td>3192.453639</td>\n",
       "      <td>3159.338400</td>\n",
       "      <td>3131.971868</td>\n",
       "      <td>3116.077025</td>\n",
       "      <td>3037.784742</td>\n",
       "      <td>3061.787240</td>\n",
       "      <td>3116.645194</td>\n",
       "      <td>3128.469953</td>\n",
       "      <td>3153.015168</td>\n",
       "      <td>7.905517</td>\n",
       "    </tr>\n",
       "    <tr>\n",
       "      <th>Vietnam</th>\n",
       "      <td>1673.249634</td>\n",
       "      <td>1736.014139</td>\n",
       "      <td>1847.620675</td>\n",
       "      <td>1957.644497</td>\n",
       "      <td>2091.599402</td>\n",
       "      <td>2252.633886</td>\n",
       "      <td>2425.526266</td>\n",
       "      <td>2587.055148</td>\n",
       "      <td>2701.770578</td>\n",
       "      <td>2797.785536</td>\n",
       "      <td>...</td>\n",
       "      <td>5352.011422</td>\n",
       "      <td>5574.458880</td>\n",
       "      <td>5815.118920</td>\n",
       "      <td>6098.489609</td>\n",
       "      <td>6438.260271</td>\n",
       "      <td>6767.902495</td>\n",
       "      <td>7155.745829</td>\n",
       "      <td>7586.384939</td>\n",
       "      <td>8041.178551</td>\n",
       "      <td>327.655604</td>\n",
       "    </tr>\n",
       "    <tr>\n",
       "      <th>World</th>\n",
       "      <td>9680.269697</td>\n",
       "      <td>9645.256163</td>\n",
       "      <td>9647.070526</td>\n",
       "      <td>9657.888486</td>\n",
       "      <td>9783.828893</td>\n",
       "      <td>9943.132889</td>\n",
       "      <td>10167.967706</td>\n",
       "      <td>10396.385330</td>\n",
       "      <td>10508.291266</td>\n",
       "      <td>10731.543649</td>\n",
       "      <td>...</td>\n",
       "      <td>14275.461871</td>\n",
       "      <td>14554.850133</td>\n",
       "      <td>14857.762340</td>\n",
       "      <td>15189.648507</td>\n",
       "      <td>15516.986524</td>\n",
       "      <td>15837.382961</td>\n",
       "      <td>16253.385518</td>\n",
       "      <td>16636.415941</td>\n",
       "      <td>16911.193295</td>\n",
       "      <td>67.902197</td>\n",
       "    </tr>\n",
       "    <tr>\n",
       "      <th>Zambia</th>\n",
       "      <td>2190.182814</td>\n",
       "      <td>2133.689042</td>\n",
       "      <td>2045.973257</td>\n",
       "      <td>2133.263108</td>\n",
       "      <td>1902.393940</td>\n",
       "      <td>1908.699005</td>\n",
       "      <td>1974.616550</td>\n",
       "      <td>1994.849503</td>\n",
       "      <td>1933.003375</td>\n",
       "      <td>1968.215803</td>\n",
       "      <td>...</td>\n",
       "      <td>3201.289398</td>\n",
       "      <td>3339.276135</td>\n",
       "      <td>3399.712999</td>\n",
       "      <td>3450.046561</td>\n",
       "      <td>3443.555206</td>\n",
       "      <td>3467.875156</td>\n",
       "      <td>3485.005238</td>\n",
       "      <td>3521.520144</td>\n",
       "      <td>3470.448801</td>\n",
       "      <td>59.119377</td>\n",
       "    </tr>\n",
       "    <tr>\n",
       "      <th>Zimbabwe</th>\n",
       "      <td>3324.348171</td>\n",
       "      <td>3426.598094</td>\n",
       "      <td>3054.889178</td>\n",
       "      <td>3033.504852</td>\n",
       "      <td>3263.934978</td>\n",
       "      <td>3226.413930</td>\n",
       "      <td>3520.430146</td>\n",
       "      <td>3580.048793</td>\n",
       "      <td>3653.920016</td>\n",
       "      <td>3600.849291</td>\n",
       "      <td>...</td>\n",
       "      <td>2556.278431</td>\n",
       "      <td>2932.081336</td>\n",
       "      <td>2937.725624</td>\n",
       "      <td>2955.240287</td>\n",
       "      <td>2958.209004</td>\n",
       "      <td>2934.733650</td>\n",
       "      <td>3028.245976</td>\n",
       "      <td>3130.029501</td>\n",
       "      <td>2835.948532</td>\n",
       "      <td>-8.907075</td>\n",
       "    </tr>\n",
       "  </tbody>\n",
       "</table>\n",
       "<p>207 rows × 31 columns</p>\n",
       "</div>"
      ],
      "text/plain": [
       "Year                         1990          1991          1992          1993  \\\n",
       "Country or Area                                                               \n",
       "Albania               4842.734635   3507.746654   3275.444336   3610.520633   \n",
       "Algeria               8746.352901   8431.385028   8383.770248   8027.376688   \n",
       "Angola                5783.429064   5649.782130   5148.252824   3788.508107   \n",
       "Antigua and Barbuda  15459.551675  15586.896172  15497.464744  15991.764201   \n",
       "Arab World            9694.667544   9651.626577   9933.531454   9927.649928   \n",
       "...                           ...           ...           ...           ...   \n",
       "Vanuatu               2888.309393   2897.327707   2886.920558   2824.882319   \n",
       "Vietnam               1673.249634   1736.014139   1847.620675   1957.644497   \n",
       "World                 9680.269697   9645.256163   9647.070526   9657.888486   \n",
       "Zambia                2190.182814   2133.689042   2045.973257   2133.263108   \n",
       "Zimbabwe              3324.348171   3426.598094   3054.889178   3033.504852   \n",
       "\n",
       "Year                         1994          1995          1996          1997  \\\n",
       "Country or Area                                                               \n",
       "Albania               3934.375728   4486.152092   4924.905836   4414.631173   \n",
       "Algeria               7792.085182   7935.179841   8116.962721   8074.759953   \n",
       "Angola                3717.366881   4139.640473   4551.651329   4728.157560   \n",
       "Antigua and Barbuda  16697.248772  15628.396992  16303.723892  16828.640823   \n",
       "Arab World            9957.387061   9913.934988  10136.058519  10311.064917   \n",
       "...                           ...           ...           ...           ...   \n",
       "Vanuatu               2999.097317   2956.627999   2962.647258   3051.178566   \n",
       "Vietnam               2091.599402   2252.633886   2425.526266   2587.055148   \n",
       "World                 9783.828893   9943.132889  10167.967706  10396.385330   \n",
       "Zambia                1902.393940   1908.699005   1974.616550   1994.849503   \n",
       "Zimbabwe              3263.934978   3226.413930   3520.430146   3580.048793   \n",
       "\n",
       "Year                         1998          1999  ...          2011  \\\n",
       "Country or Area                                  ...                 \n",
       "Albania               4834.778357   5492.654212  ...  11088.087801   \n",
       "Algeria               8360.150339   8506.345679  ...  11078.240516   \n",
       "Angola                4792.683851   4740.669833  ...   7675.445768   \n",
       "Antigua and Barbuda  17258.964856  17551.305968  ...  17604.417102   \n",
       "Arab World           10624.718674  10606.027497  ...  13531.438796   \n",
       "...                           ...           ...  ...           ...   \n",
       "Vanuatu               3033.908413   2989.091261  ...   3192.453639   \n",
       "Vietnam               2701.770578   2797.785536  ...   5352.011422   \n",
       "World                10508.291266  10731.543649  ...  14275.461871   \n",
       "Zambia                1933.003375   1968.215803  ...   3201.289398   \n",
       "Zimbabwe              3653.920016   3600.849291  ...   2556.278431   \n",
       "\n",
       "Year                         2012          2013          2014          2015  \\\n",
       "Country or Area                                                               \n",
       "Albania              11263.851342  11397.576226  11623.866679  11916.422315   \n",
       "Algeria              11233.534926  11319.097949  11512.705405  11696.963757   \n",
       "Angola                8036.690482   8140.527851   8239.828837   8036.410610   \n",
       "Antigua and Barbuda  17965.502327  17641.542533  18104.241470  18595.084904   \n",
       "Arab World           14032.961703  14155.876986  14219.562395  14441.436785   \n",
       "...                           ...           ...           ...           ...   \n",
       "Vanuatu               3159.338400   3131.971868   3116.077025   3037.784742   \n",
       "Vietnam               5574.458880   5815.118920   6098.489609   6438.260271   \n",
       "World                14554.850133  14857.762340  15189.648507  15516.986524   \n",
       "Zambia                3339.276135   3399.712999   3450.046561   3443.555206   \n",
       "Zimbabwe              2932.081336   2937.725624   2955.240287   2958.209004   \n",
       "\n",
       "Year                         2016          2017          2018          2019  \\\n",
       "Country or Area                                                               \n",
       "Albania              12331.127754  12811.759436  13366.303065  13724.058790   \n",
       "Algeria              11826.164666  11737.409353  11642.194485  11510.557088   \n",
       "Angola                7568.997643   7310.901738   6933.505560   6670.332297   \n",
       "Antigua and Barbuda  19417.964819  19840.076123  21115.798269  21910.184985   \n",
       "Arab World           14663.549625  14555.474921  14622.065826  14602.938214   \n",
       "...                           ...           ...           ...           ...   \n",
       "Vanuatu               3061.787240   3116.645194   3128.469953   3153.015168   \n",
       "Vietnam               6767.902495   7155.745829   7586.384939   8041.178551   \n",
       "World                15837.382961  16253.385518  16636.415941  16911.193295   \n",
       "Zambia                3467.875156   3485.005238   3521.520144   3470.448801   \n",
       "Zimbabwe              2934.733650   3028.245976   3130.029501   2835.948532   \n",
       "\n",
       "Year                 Percent_Change  \n",
       "Country or Area                      \n",
       "Albania                  164.556297  \n",
       "Algeria                   34.197756  \n",
       "Angola                    26.411194  \n",
       "Antigua and Barbuda       28.335391  \n",
       "Arab World                50.138980  \n",
       "...                             ...  \n",
       "Vanuatu                    7.905517  \n",
       "Vietnam                  327.655604  \n",
       "World                     67.902197  \n",
       "Zambia                    59.119377  \n",
       "Zimbabwe                  -8.907075  \n",
       "\n",
       "[207 rows x 31 columns]"
      ]
     },
     "execution_count": 296,
     "metadata": {},
     "output_type": "execute_result"
    }
   ],
   "source": [
    "gdp_pivoted['Percent_Change'] = 100*(gdp_pivoted[2017] - gdp_pivoted[1990]) / gdp_pivoted[1990]\n",
    "gdp_pivoted"
   ]
  },
  {
   "cell_type": "markdown",
   "id": "d2dfaa21",
   "metadata": {},
   "source": [
    "# Problem 16\n",
    "How many countries experienced a negative percent change in GDP per capita from 1990 to 2017?"
   ]
  },
  {
   "cell_type": "code",
   "execution_count": 297,
   "id": "e3ecbf2b",
   "metadata": {},
   "outputs": [
    {
     "name": "stdout",
     "output_type": "stream",
     "text": [
      "17 countries with negative percent change from 1990 to 2017.\n"
     ]
    }
   ],
   "source": [
    "print(gdp_pivoted.loc[gdp_pivoted['Percent_Change'] < 0, 'Percent_Change'].count(), \"countries with negative percent change from 1990 to 2017.\")"
   ]
  },
  {
   "cell_type": "markdown",
   "id": "7231c8a2",
   "metadata": {},
   "source": [
    "# Problem 17\n",
    "Which country had the highest % change in GDP per capita? \n",
    "\n",
    "Create a line plot showing this country's GDP per capita for all years from 1990 to 2017. Create another showing the country with the second highest % change in GDP. How do the trends in these countries compare?\n",
    "\n",
    "Bonus: Put both line charts on the same plot."
   ]
  },
  {
   "cell_type": "code",
   "execution_count": 298,
   "id": "93773afd",
   "metadata": {},
   "outputs": [
    {
     "data": {
      "text/plain": [
       "'Equatorial Guinea'"
      ]
     },
     "execution_count": 298,
     "metadata": {},
     "output_type": "execute_result"
    }
   ],
   "source": [
    "#Which country had the highest % change in GDP per capita\n",
    "max_change = gdp_pivoted['Percent_Change'].idxmax()\n",
    "max_change"
   ]
  },
  {
   "cell_type": "code",
   "execution_count": 299,
   "id": "93c643c5",
   "metadata": {},
   "outputs": [
    {
     "data": {
      "text/plain": [
       "<seaborn.axisgrid.FacetGrid at 0x25eaff4d610>"
      ]
     },
     "execution_count": 299,
     "metadata": {},
     "output_type": "execute_result"
    },
    {
     "data": {
      "image/png": "[encoded data removed]",
      "text/plain": [
       "<Figure size 360x360 with 1 Axes>"
      ]
     },
     "metadata": {
      "needs_background": "dark"
     },
     "output_type": "display_data"
    }
   ],
   "source": [
    "# Create a line plot showing this country's GDP per capita for all years from 1990 to 2017. \n",
    "\n",
    "sns.relplot(x = gdp_df.loc[gdp_df['Country or Area'] == max_change, 'Year'], y = gdp_df['Value'], kind = 'line')"
   ]
  },
  {
   "cell_type": "code",
   "execution_count": 300,
   "id": "bd39f082",
   "metadata": {},
   "outputs": [
    {
     "data": {
      "text/plain": [
       "<seaborn.axisgrid.FacetGrid at 0x25eb2c84670>"
      ]
     },
     "execution_count": 300,
     "metadata": {},
     "output_type": "execute_result"
    },
    {
     "data": {
      "image/png": "[encoded data removed]",
      "text/plain": [
       "<Figure size 360x360 with 1 Axes>"
      ]
     },
     "metadata": {
      "needs_background": "dark"
     },
     "output_type": "display_data"
    }
   ],
   "source": [
    "# Create another showing the country with the second highest % change in GDP.\n",
    "second_highest = gdp_pivoted['Percent_Change'].nlargest(2).iloc[[-1]].index[0]\n",
    "second_highest\n",
    "sns.relplot(x = gdp_df.loc[gdp_df['Country or Area'] == second_highest, 'Year'], y = gdp_df['Value'], kind = 'line')"
   ]
  },
  {
   "cell_type": "markdown",
   "id": "5991c476",
   "metadata": {},
   "source": [
    "Equatorial Guinea's GDP per Capita has rollercoastered. Despite having dropped dramatically since 2018, it's still increased the most proportionally. China, on the other hand, has increased with a near-linear trend."
   ]
  },
  {
   "cell_type": "code",
   "execution_count": 301,
   "id": "bf12cc42",
   "metadata": {},
   "outputs": [
    {
     "data": {
      "text/plain": [
       "<matplotlib.legend.Legend at 0x25eb45507c0>"
      ]
     },
     "execution_count": 301,
     "metadata": {},
     "output_type": "execute_result"
    },
    {
     "data": {
      "image/png": "[encoded data removed]",
      "text/plain": [
       "<Figure size 432x288 with 1 Axes>"
      ]
     },
     "metadata": {
      "needs_background": "dark"
     },
     "output_type": "display_data"
    }
   ],
   "source": [
    "#Bonus: Put both line charts on the same plot\n",
    "fig, ax = plt.subplots()\n",
    "\n",
    "sns.lineplot(x = gdp_df.loc[gdp_df['Country or Area'] == max_change, 'Year'], y = gdp_df['Value'])\n",
    "sns.lineplot(x = gdp_df.loc[gdp_df['Country or Area'] == second_highest, 'Year'], y = gdp_df['Value'])\n",
    "plt.legend(labels = [\"Equatorial Guinea\", \"China\"])"
   ]
  },
  {
   "cell_type": "markdown",
   "id": "4a078ae9",
   "metadata": {},
   "source": [
    "# Problem 18\n",
    "Read in continents.csv contained in the data folder into a new dataframe called continents. We will be using this dataframe to add a new column to our dataset."
   ]
  },
  {
   "cell_type": "code",
   "execution_count": 302,
   "id": "f05c9efe",
   "metadata": {},
   "outputs": [],
   "source": [
    "continents = pd.read_csv('../data/continents.csv')"
   ]
  },
  {
   "cell_type": "markdown",
   "id": "98a5c749",
   "metadata": {},
   "source": [
    "# Problem 19\n",
    "Merge gdp_df and continents. Keep only the countries that appear in both data frames. Save the result back to gdp_df."
   ]
  },
  {
   "cell_type": "code",
   "execution_count": 303,
   "id": "fafb9fa2",
   "metadata": {},
   "outputs": [
    {
     "data": {
      "text/html": [
       "<div>\n",
       "<style scoped>\n",
       "    .dataframe tbody tr th:only-of-type {\n",
       "        vertical-align: middle;\n",
       "    }\n",
       "\n",
       "    .dataframe tbody tr th {\n",
       "        vertical-align: top;\n",
       "    }\n",
       "\n",
       "    .dataframe thead th {\n",
       "        text-align: right;\n",
       "    }\n",
       "</style>\n",
       "<table border=\"1\" class=\"dataframe\">\n",
       "  <thead>\n",
       "    <tr style=\"text-align: right;\">\n",
       "      <th></th>\n",
       "      <th>Country or Area</th>\n",
       "      <th>Year</th>\n",
       "      <th>Value</th>\n",
       "    </tr>\n",
       "  </thead>\n",
       "  <tbody>\n",
       "    <tr>\n",
       "      <th>0</th>\n",
       "      <td>Afghanistan</td>\n",
       "      <td>2019</td>\n",
       "      <td>2065.036398</td>\n",
       "    </tr>\n",
       "    <tr>\n",
       "      <th>1</th>\n",
       "      <td>Afghanistan</td>\n",
       "      <td>2018</td>\n",
       "      <td>2033.779002</td>\n",
       "    </tr>\n",
       "    <tr>\n",
       "      <th>2</th>\n",
       "      <td>Afghanistan</td>\n",
       "      <td>2017</td>\n",
       "      <td>2058.383832</td>\n",
       "    </tr>\n",
       "    <tr>\n",
       "      <th>3</th>\n",
       "      <td>Afghanistan</td>\n",
       "      <td>2016</td>\n",
       "      <td>2057.062164</td>\n",
       "    </tr>\n",
       "    <tr>\n",
       "      <th>4</th>\n",
       "      <td>Afghanistan</td>\n",
       "      <td>2015</td>\n",
       "      <td>2068.265904</td>\n",
       "    </tr>\n",
       "    <tr>\n",
       "      <th>...</th>\n",
       "      <td>...</td>\n",
       "      <td>...</td>\n",
       "      <td>...</td>\n",
       "    </tr>\n",
       "    <tr>\n",
       "      <th>6863</th>\n",
       "      <td>Zimbabwe</td>\n",
       "      <td>1994</td>\n",
       "      <td>3263.934978</td>\n",
       "    </tr>\n",
       "    <tr>\n",
       "      <th>6864</th>\n",
       "      <td>Zimbabwe</td>\n",
       "      <td>1993</td>\n",
       "      <td>3033.504852</td>\n",
       "    </tr>\n",
       "    <tr>\n",
       "      <th>6865</th>\n",
       "      <td>Zimbabwe</td>\n",
       "      <td>1992</td>\n",
       "      <td>3054.889178</td>\n",
       "    </tr>\n",
       "    <tr>\n",
       "      <th>6866</th>\n",
       "      <td>Zimbabwe</td>\n",
       "      <td>1991</td>\n",
       "      <td>3426.598094</td>\n",
       "    </tr>\n",
       "    <tr>\n",
       "      <th>6867</th>\n",
       "      <td>Zimbabwe</td>\n",
       "      <td>1990</td>\n",
       "      <td>3324.348171</td>\n",
       "    </tr>\n",
       "  </tbody>\n",
       "</table>\n",
       "<p>6868 rows × 3 columns</p>\n",
       "</div>"
      ],
      "text/plain": [
       "     Country or Area  Year        Value\n",
       "0        Afghanistan  2019  2065.036398\n",
       "1        Afghanistan  2018  2033.779002\n",
       "2        Afghanistan  2017  2058.383832\n",
       "3        Afghanistan  2016  2057.062164\n",
       "4        Afghanistan  2015  2068.265904\n",
       "...              ...   ...          ...\n",
       "6863        Zimbabwe  1994  3263.934978\n",
       "6864        Zimbabwe  1993  3033.504852\n",
       "6865        Zimbabwe  1992  3054.889178\n",
       "6866        Zimbabwe  1991  3426.598094\n",
       "6867        Zimbabwe  1990  3324.348171\n",
       "\n",
       "[6868 rows x 3 columns]"
      ]
     },
     "execution_count": 303,
     "metadata": {},
     "output_type": "execute_result"
    }
   ],
   "source": [
    "gdp_df"
   ]
  },
  {
   "cell_type": "code",
   "execution_count": 304,
   "id": "4eac1a10",
   "metadata": {},
   "outputs": [
    {
     "data": {
      "text/html": [
       "<div>\n",
       "<style scoped>\n",
       "    .dataframe tbody tr th:only-of-type {\n",
       "        vertical-align: middle;\n",
       "    }\n",
       "\n",
       "    .dataframe tbody tr th {\n",
       "        vertical-align: top;\n",
       "    }\n",
       "\n",
       "    .dataframe thead th {\n",
       "        text-align: right;\n",
       "    }\n",
       "</style>\n",
       "<table border=\"1\" class=\"dataframe\">\n",
       "  <thead>\n",
       "    <tr style=\"text-align: right;\">\n",
       "      <th></th>\n",
       "      <th>Continent</th>\n",
       "      <th>Country</th>\n",
       "    </tr>\n",
       "  </thead>\n",
       "  <tbody>\n",
       "    <tr>\n",
       "      <th>0</th>\n",
       "      <td>Asia</td>\n",
       "      <td>Afghanistan</td>\n",
       "    </tr>\n",
       "    <tr>\n",
       "      <th>1</th>\n",
       "      <td>Europe</td>\n",
       "      <td>Albania</td>\n",
       "    </tr>\n",
       "    <tr>\n",
       "      <th>2</th>\n",
       "      <td>Africa</td>\n",
       "      <td>Algeria</td>\n",
       "    </tr>\n",
       "    <tr>\n",
       "      <th>3</th>\n",
       "      <td>Europe</td>\n",
       "      <td>Andorra</td>\n",
       "    </tr>\n",
       "    <tr>\n",
       "      <th>4</th>\n",
       "      <td>Africa</td>\n",
       "      <td>Angola</td>\n",
       "    </tr>\n",
       "    <tr>\n",
       "      <th>...</th>\n",
       "      <td>...</td>\n",
       "      <td>...</td>\n",
       "    </tr>\n",
       "    <tr>\n",
       "      <th>211</th>\n",
       "      <td>Asia</td>\n",
       "      <td>Vietnam</td>\n",
       "    </tr>\n",
       "    <tr>\n",
       "      <th>212</th>\n",
       "      <td>Asia</td>\n",
       "      <td>West Bank and Gaza</td>\n",
       "    </tr>\n",
       "    <tr>\n",
       "      <th>213</th>\n",
       "      <td>Asia</td>\n",
       "      <td>Yemen</td>\n",
       "    </tr>\n",
       "    <tr>\n",
       "      <th>214</th>\n",
       "      <td>Africa</td>\n",
       "      <td>Zambia</td>\n",
       "    </tr>\n",
       "    <tr>\n",
       "      <th>215</th>\n",
       "      <td>Africa</td>\n",
       "      <td>Zimbabwe</td>\n",
       "    </tr>\n",
       "  </tbody>\n",
       "</table>\n",
       "<p>216 rows × 2 columns</p>\n",
       "</div>"
      ],
      "text/plain": [
       "    Continent             Country\n",
       "0        Asia         Afghanistan\n",
       "1      Europe             Albania\n",
       "2      Africa             Algeria\n",
       "3      Europe             Andorra\n",
       "4      Africa              Angola\n",
       "..        ...                 ...\n",
       "211      Asia             Vietnam\n",
       "212      Asia  West Bank and Gaza\n",
       "213      Asia               Yemen\n",
       "214    Africa              Zambia\n",
       "215    Africa            Zimbabwe\n",
       "\n",
       "[216 rows x 2 columns]"
      ]
     },
     "execution_count": 304,
     "metadata": {},
     "output_type": "execute_result"
    }
   ],
   "source": [
    "continents"
   ]
  },
  {
   "cell_type": "code",
   "execution_count": 305,
   "id": "356b653a",
   "metadata": {},
   "outputs": [
    {
     "data": {
      "text/html": [
       "<div>\n",
       "<style scoped>\n",
       "    .dataframe tbody tr th:only-of-type {\n",
       "        vertical-align: middle;\n",
       "    }\n",
       "\n",
       "    .dataframe tbody tr th {\n",
       "        vertical-align: top;\n",
       "    }\n",
       "\n",
       "    .dataframe thead th {\n",
       "        text-align: right;\n",
       "    }\n",
       "</style>\n",
       "<table border=\"1\" class=\"dataframe\">\n",
       "  <thead>\n",
       "    <tr style=\"text-align: right;\">\n",
       "      <th></th>\n",
       "      <th>Country</th>\n",
       "      <th>Year</th>\n",
       "      <th>Value</th>\n",
       "      <th>Continent</th>\n",
       "    </tr>\n",
       "  </thead>\n",
       "  <tbody>\n",
       "    <tr>\n",
       "      <th>0</th>\n",
       "      <td>Afghanistan</td>\n",
       "      <td>2019</td>\n",
       "      <td>2065.036398</td>\n",
       "      <td>Asia</td>\n",
       "    </tr>\n",
       "    <tr>\n",
       "      <th>1</th>\n",
       "      <td>Afghanistan</td>\n",
       "      <td>2018</td>\n",
       "      <td>2033.779002</td>\n",
       "      <td>Asia</td>\n",
       "    </tr>\n",
       "    <tr>\n",
       "      <th>2</th>\n",
       "      <td>Afghanistan</td>\n",
       "      <td>2017</td>\n",
       "      <td>2058.383832</td>\n",
       "      <td>Asia</td>\n",
       "    </tr>\n",
       "    <tr>\n",
       "      <th>3</th>\n",
       "      <td>Afghanistan</td>\n",
       "      <td>2016</td>\n",
       "      <td>2057.062164</td>\n",
       "      <td>Asia</td>\n",
       "    </tr>\n",
       "    <tr>\n",
       "      <th>4</th>\n",
       "      <td>Afghanistan</td>\n",
       "      <td>2015</td>\n",
       "      <td>2068.265904</td>\n",
       "      <td>Asia</td>\n",
       "    </tr>\n",
       "    <tr>\n",
       "      <th>...</th>\n",
       "      <td>...</td>\n",
       "      <td>...</td>\n",
       "      <td>...</td>\n",
       "      <td>...</td>\n",
       "    </tr>\n",
       "    <tr>\n",
       "      <th>5438</th>\n",
       "      <td>Zimbabwe</td>\n",
       "      <td>1994</td>\n",
       "      <td>3263.934978</td>\n",
       "      <td>Africa</td>\n",
       "    </tr>\n",
       "    <tr>\n",
       "      <th>5439</th>\n",
       "      <td>Zimbabwe</td>\n",
       "      <td>1993</td>\n",
       "      <td>3033.504852</td>\n",
       "      <td>Africa</td>\n",
       "    </tr>\n",
       "    <tr>\n",
       "      <th>5440</th>\n",
       "      <td>Zimbabwe</td>\n",
       "      <td>1992</td>\n",
       "      <td>3054.889178</td>\n",
       "      <td>Africa</td>\n",
       "    </tr>\n",
       "    <tr>\n",
       "      <th>5441</th>\n",
       "      <td>Zimbabwe</td>\n",
       "      <td>1991</td>\n",
       "      <td>3426.598094</td>\n",
       "      <td>Africa</td>\n",
       "    </tr>\n",
       "    <tr>\n",
       "      <th>5442</th>\n",
       "      <td>Zimbabwe</td>\n",
       "      <td>1990</td>\n",
       "      <td>3324.348171</td>\n",
       "      <td>Africa</td>\n",
       "    </tr>\n",
       "  </tbody>\n",
       "</table>\n",
       "<p>5443 rows × 4 columns</p>\n",
       "</div>"
      ],
      "text/plain": [
       "          Country  Year        Value Continent\n",
       "0     Afghanistan  2019  2065.036398      Asia\n",
       "1     Afghanistan  2018  2033.779002      Asia\n",
       "2     Afghanistan  2017  2058.383832      Asia\n",
       "3     Afghanistan  2016  2057.062164      Asia\n",
       "4     Afghanistan  2015  2068.265904      Asia\n",
       "...           ...   ...          ...       ...\n",
       "5438     Zimbabwe  1994  3263.934978    Africa\n",
       "5439     Zimbabwe  1993  3033.504852    Africa\n",
       "5440     Zimbabwe  1992  3054.889178    Africa\n",
       "5441     Zimbabwe  1991  3426.598094    Africa\n",
       "5442     Zimbabwe  1990  3324.348171    Africa\n",
       "\n",
       "[5443 rows x 4 columns]"
      ]
     },
     "execution_count": 305,
     "metadata": {},
     "output_type": "execute_result"
    }
   ],
   "source": [
    "gdp_df = (pd.merge(gdp_df, \n",
    "             continents, \n",
    "             how = 'inner', \n",
    "             left_on = 'Country or Area', \n",
    "             right_on = 'Country')\n",
    "             .drop(columns = 'Country')\n",
    "             .rename(columns = {'Country or Area': 'Country'})\n",
    "                )\n",
    "gdp_df"
   ]
  },
  {
   "cell_type": "markdown",
   "id": "a9382a4b",
   "metadata": {},
   "source": [
    "# Problem 20\n",
    "Determine the number of countries per continent. Create a bar chart showing this."
   ]
  },
  {
   "cell_type": "code",
   "execution_count": 306,
   "id": "6a8eb55c",
   "metadata": {},
   "outputs": [
    {
     "data": {
      "text/plain": [
       "Continent\n",
       "Africa           49\n",
       "Europe           45\n",
       "Asia             43\n",
       "North America    26\n",
       "Oceania          14\n",
       "South America    11\n",
       "Name: Country, dtype: int64"
      ]
     },
     "execution_count": 306,
     "metadata": {},
     "output_type": "execute_result"
    }
   ],
   "source": [
    "ccount = gdp_df.groupby('Continent')['Country'].nunique().sort_values(ascending = False)\n",
    "ccount"
   ]
  },
  {
   "cell_type": "code",
   "execution_count": 307,
   "id": "9d99e993",
   "metadata": {},
   "outputs": [
    {
     "name": "stderr",
     "output_type": "stream",
     "text": [
      "C:\\Users\\jrior\\anaconda3\\lib\\site-packages\\seaborn\\_decorators.py:36: FutureWarning: Pass the following variables as keyword args: x, y. From version 0.12, the only valid positional argument will be `data`, and passing other arguments without an explicit keyword will result in an error or misinterpretation.\n",
      "  warnings.warn(\n"
     ]
    },
    {
     "data": {
      "text/plain": [
       "<AxesSubplot:xlabel='Country', ylabel='Continent'>"
      ]
     },
     "execution_count": 307,
     "metadata": {},
     "output_type": "execute_result"
    },
    {
     "data": {
      "image/png": "[encoded data removed]",
      "text/plain": [
       "<Figure size 432x288 with 1 Axes>"
      ]
     },
     "metadata": {
      "needs_background": "dark"
     },
     "output_type": "display_data"
    }
   ],
   "source": [
    "sns.barplot(ccount, ccount.index, orient = 'h')"
   ]
  },
  {
   "cell_type": "markdown",
   "id": "c599afc5",
   "metadata": {},
   "source": [
    "# Problem 21\n",
    "Create a seaborn boxplot showing GDP per capita in 2014 split out by continent. What do you notice?"
   ]
  },
  {
   "cell_type": "code",
   "execution_count": 308,
   "id": "a10f998e",
   "metadata": {
    "scrolled": true
   },
   "outputs": [
    {
     "data": {
      "text/plain": [
       "<AxesSubplot:xlabel='Value', ylabel='Continent'>"
      ]
     },
     "execution_count": 308,
     "metadata": {},
     "output_type": "execute_result"
    },
    {
     "data": {
      "image/png": "[encoded data removed]",
      "text/plain": [
       "<Figure size 432x288 with 1 Axes>"
      ]
     },
     "metadata": {
      "needs_background": "dark"
     },
     "output_type": "display_data"
    }
   ],
   "source": [
    "sns.boxplot(x = 'Value', y = 'Continent', data = gdp_df[gdp_df['Year'] == 2014])"
   ]
  },
  {
   "cell_type": "markdown",
   "id": "5da29fe9",
   "metadata": {},
   "source": [
    "Europe seems to be a lot higher than all the other continents on average. Africa, on the other hand, is much lower. Asia's outliers really lie out."
   ]
  },
  {
   "cell_type": "markdown",
   "id": "99f8d6b5",
   "metadata": {},
   "source": [
    "# Problem 22\n",
    "Read in internet_use.csv into a DataFrame called internet_df. You will most likely get an error message when doing this - figure out what is going wrong and fix it. Take a look at the first and last five rows and make any corrections to your read_csv() call to fix this. Again, do not modify the original datasets."
   ]
  },
  {
   "cell_type": "code",
   "execution_count": 309,
   "id": "b2517740",
   "metadata": {},
   "outputs": [
    {
     "data": {
      "text/html": [
       "<div>\n",
       "<style scoped>\n",
       "    .dataframe tbody tr th:only-of-type {\n",
       "        vertical-align: middle;\n",
       "    }\n",
       "\n",
       "    .dataframe tbody tr th {\n",
       "        vertical-align: top;\n",
       "    }\n",
       "\n",
       "    .dataframe thead th {\n",
       "        text-align: right;\n",
       "    }\n",
       "</style>\n",
       "<table border=\"1\" class=\"dataframe\">\n",
       "  <thead>\n",
       "    <tr style=\"text-align: right;\">\n",
       "      <th></th>\n",
       "      <th>Country or Area</th>\n",
       "      <th>Year</th>\n",
       "      <th>Value</th>\n",
       "      <th>Value Footnotes</th>\n",
       "    </tr>\n",
       "  </thead>\n",
       "  <tbody>\n",
       "    <tr>\n",
       "      <th>4490</th>\n",
       "      <td>Zimbabwe</td>\n",
       "      <td>1997</td>\n",
       "      <td>0.033080</td>\n",
       "      <td>NaN</td>\n",
       "    </tr>\n",
       "    <tr>\n",
       "      <th>4491</th>\n",
       "      <td>Zimbabwe</td>\n",
       "      <td>1996</td>\n",
       "      <td>0.016790</td>\n",
       "      <td>NaN</td>\n",
       "    </tr>\n",
       "    <tr>\n",
       "      <th>4492</th>\n",
       "      <td>Zimbabwe</td>\n",
       "      <td>1995</td>\n",
       "      <td>0.007684</td>\n",
       "      <td>NaN</td>\n",
       "    </tr>\n",
       "    <tr>\n",
       "      <th>4493</th>\n",
       "      <td>Zimbabwe</td>\n",
       "      <td>1994</td>\n",
       "      <td>0.001739</td>\n",
       "      <td>NaN</td>\n",
       "    </tr>\n",
       "    <tr>\n",
       "      <th>4494</th>\n",
       "      <td>Zimbabwe</td>\n",
       "      <td>1990</td>\n",
       "      <td>0.000000</td>\n",
       "      <td>NaN</td>\n",
       "    </tr>\n",
       "  </tbody>\n",
       "</table>\n",
       "</div>"
      ],
      "text/plain": [
       "     Country or Area  Year     Value  Value Footnotes\n",
       "4490        Zimbabwe  1997  0.033080              NaN\n",
       "4491        Zimbabwe  1996  0.016790              NaN\n",
       "4492        Zimbabwe  1995  0.007684              NaN\n",
       "4493        Zimbabwe  1994  0.001739              NaN\n",
       "4494        Zimbabwe  1990  0.000000              NaN"
      ]
     },
     "execution_count": 309,
     "metadata": {},
     "output_type": "execute_result"
    }
   ],
   "source": [
    "internet_df = pd.read_csv('../data/internet_use.csv', nrows = 4495)\n",
    "internet_df.tail()"
   ]
  },
  {
   "cell_type": "markdown",
   "id": "7e716c06",
   "metadata": {},
   "source": [
    "# Problem 23\n",
    "Drop the Value Footnotes column and then rename the columns to ‘Country’, ‘Year’, and ‘Internet_Users_Pct’."
   ]
  },
  {
   "cell_type": "code",
   "execution_count": 310,
   "id": "70bcaae2",
   "metadata": {},
   "outputs": [],
   "source": [
    "internet_df = internet_df.drop(columns = 'Value Footnotes').rename(columns = {'Country or Area':'Country', 'Value': 'Internet_Users_Pct'})"
   ]
  },
  {
   "cell_type": "markdown",
   "id": "390fd744",
   "metadata": {},
   "source": [
    "# Problem 24\n",
    "How many rows and columns does this new dataset have? What are the types of its columns? Ensure that the Internet_Users_Pct column is a numeric data type and fix it if it is not."
   ]
  },
  {
   "cell_type": "code",
   "execution_count": 311,
   "id": "d41176e2",
   "metadata": {},
   "outputs": [
    {
     "name": "stdout",
     "output_type": "stream",
     "text": [
      "<class 'pandas.core.frame.DataFrame'>\n",
      "RangeIndex: 4495 entries, 0 to 4494\n",
      "Data columns (total 3 columns):\n",
      " #   Column              Non-Null Count  Dtype  \n",
      "---  ------              --------------  -----  \n",
      " 0   Country             4495 non-null   object \n",
      " 1   Year                4495 non-null   int64  \n",
      " 2   Internet_Users_Pct  4495 non-null   float64\n",
      "dtypes: float64(1), int64(1), object(1)\n",
      "memory usage: 105.5+ KB\n"
     ]
    }
   ],
   "source": [
    "internet_df.info()"
   ]
  },
  {
   "cell_type": "markdown",
   "id": "8e3ac2a5",
   "metadata": {},
   "source": [
    "4495 rows and 3 columns. Internet_Users_Pct is a numeric type"
   ]
  },
  {
   "cell_type": "markdown",
   "id": "ede105da",
   "metadata": {},
   "source": [
    "# Problem 25\n",
    "What is the first year that has a nonzero internet users percentage reported? \n",
    "\n",
    "What is the general trend in internet users percentage over the years. Pick a visualization that you think illustrates this trend well."
   ]
  },
  {
   "cell_type": "code",
   "execution_count": 312,
   "id": "e9c7d231",
   "metadata": {},
   "outputs": [
    {
     "data": {
      "text/plain": [
       "1990"
      ]
     },
     "execution_count": 312,
     "metadata": {},
     "output_type": "execute_result"
    }
   ],
   "source": [
    "# First year with nonzero internet users percentage reported.\n",
    "internet_df.loc[internet_df['Internet_Users_Pct'] != 0.0, 'Year'].min()"
   ]
  },
  {
   "cell_type": "code",
   "execution_count": 313,
   "id": "8b73c3f6",
   "metadata": {},
   "outputs": [
    {
     "data": {
      "image/png": "[encoded data removed]",
      "text/plain": [
       "<Figure size 432x288 with 1 Axes>"
      ]
     },
     "metadata": {
      "needs_background": "dark"
     },
     "output_type": "display_data"
    }
   ],
   "source": [
    "# general trend\n",
    "internet_years = internet_df.groupby('Year')['Internet_Users_Pct'].agg([np.mean, np.median])\n",
    "sns.lineplot(x = internet_years.index, y = 'mean', data = internet_years)\n",
    "sns.lineplot(x = internet_years.index, y = 'median', data = internet_years)\n",
    "_ = plt.legend(['mean usage', 'median usage'])"
   ]
  },
  {
   "cell_type": "markdown",
   "id": "e446390b",
   "metadata": {},
   "source": [
    "Internet usages has trended up exponentially since 1990."
   ]
  },
  {
   "cell_type": "markdown",
   "id": "e6f12c2a",
   "metadata": {},
   "source": [
    "# Problem 26\n",
    "Merge gdp_df and internet_df (on Country and Year) into a single DataFrame named gdp_and_internet_use. Keep only countries and years that appear in both tables.\n",
    "\n",
    "Difficult Bonus: Do not attempt this part until you have completed all other portions of the data question. Some countries have slightly different names in the internet use and gdp dataframes. For example, the Central African Republic is \"Central African Republic\" in the gdp dataframe and \"Central African Rep.\" in the internet use dataframe. Find as many instances like this as you can and resolve them so that when merging you keep the maximum number of countries possible."
   ]
  },
  {
   "cell_type": "code",
   "execution_count": 316,
   "id": "6ffe4a5b",
   "metadata": {},
   "outputs": [],
   "source": [
    "gdp_and_internet_use = pd.merge(gdp_df, internet_df, how = 'inner')"
   ]
  },
  {
   "cell_type": "markdown",
   "id": "43032aad",
   "metadata": {},
   "source": [
    "# Problem 27\n",
    "Look at the first five rows of your new data frame to confirm it merged correctly. Also, check the last five rows to make sure the data is clean and as expected."
   ]
  },
  {
   "cell_type": "code",
   "execution_count": 318,
   "id": "0b164a80",
   "metadata": {},
   "outputs": [
    {
     "data": {
      "text/html": [
       "<div>\n",
       "<style scoped>\n",
       "    .dataframe tbody tr th:only-of-type {\n",
       "        vertical-align: middle;\n",
       "    }\n",
       "\n",
       "    .dataframe tbody tr th {\n",
       "        vertical-align: top;\n",
       "    }\n",
       "\n",
       "    .dataframe thead th {\n",
       "        text-align: right;\n",
       "    }\n",
       "</style>\n",
       "<table border=\"1\" class=\"dataframe\">\n",
       "  <thead>\n",
       "    <tr style=\"text-align: right;\">\n",
       "      <th></th>\n",
       "      <th>Country</th>\n",
       "      <th>Year</th>\n",
       "      <th>Value</th>\n",
       "      <th>Continent</th>\n",
       "      <th>Internet_Users_Pct</th>\n",
       "    </tr>\n",
       "  </thead>\n",
       "  <tbody>\n",
       "    <tr>\n",
       "      <th>0</th>\n",
       "      <td>Afghanistan</td>\n",
       "      <td>2014</td>\n",
       "      <td>2102.385234</td>\n",
       "      <td>Asia</td>\n",
       "      <td>6.390000</td>\n",
       "    </tr>\n",
       "    <tr>\n",
       "      <th>1</th>\n",
       "      <td>Afghanistan</td>\n",
       "      <td>2013</td>\n",
       "      <td>2116.465454</td>\n",
       "      <td>Asia</td>\n",
       "      <td>5.900000</td>\n",
       "    </tr>\n",
       "    <tr>\n",
       "      <th>2</th>\n",
       "      <td>Afghanistan</td>\n",
       "      <td>2012</td>\n",
       "      <td>2075.491747</td>\n",
       "      <td>Asia</td>\n",
       "      <td>5.454545</td>\n",
       "    </tr>\n",
       "    <tr>\n",
       "      <th>3</th>\n",
       "      <td>Afghanistan</td>\n",
       "      <td>2011</td>\n",
       "      <td>1904.559799</td>\n",
       "      <td>Asia</td>\n",
       "      <td>5.000000</td>\n",
       "    </tr>\n",
       "    <tr>\n",
       "      <th>4</th>\n",
       "      <td>Afghanistan</td>\n",
       "      <td>2010</td>\n",
       "      <td>1957.029338</td>\n",
       "      <td>Asia</td>\n",
       "      <td>4.000000</td>\n",
       "    </tr>\n",
       "    <tr>\n",
       "      <th>...</th>\n",
       "      <td>...</td>\n",
       "      <td>...</td>\n",
       "      <td>...</td>\n",
       "      <td>...</td>\n",
       "      <td>...</td>\n",
       "    </tr>\n",
       "    <tr>\n",
       "      <th>3453</th>\n",
       "      <td>Zimbabwe</td>\n",
       "      <td>1997</td>\n",
       "      <td>3580.048793</td>\n",
       "      <td>Africa</td>\n",
       "      <td>0.033080</td>\n",
       "    </tr>\n",
       "    <tr>\n",
       "      <th>3454</th>\n",
       "      <td>Zimbabwe</td>\n",
       "      <td>1996</td>\n",
       "      <td>3520.430146</td>\n",
       "      <td>Africa</td>\n",
       "      <td>0.016790</td>\n",
       "    </tr>\n",
       "    <tr>\n",
       "      <th>3455</th>\n",
       "      <td>Zimbabwe</td>\n",
       "      <td>1995</td>\n",
       "      <td>3226.413930</td>\n",
       "      <td>Africa</td>\n",
       "      <td>0.007684</td>\n",
       "    </tr>\n",
       "    <tr>\n",
       "      <th>3456</th>\n",
       "      <td>Zimbabwe</td>\n",
       "      <td>1994</td>\n",
       "      <td>3263.934978</td>\n",
       "      <td>Africa</td>\n",
       "      <td>0.001739</td>\n",
       "    </tr>\n",
       "    <tr>\n",
       "      <th>3457</th>\n",
       "      <td>Zimbabwe</td>\n",
       "      <td>1990</td>\n",
       "      <td>3324.348171</td>\n",
       "      <td>Africa</td>\n",
       "      <td>0.000000</td>\n",
       "    </tr>\n",
       "  </tbody>\n",
       "</table>\n",
       "<p>3458 rows × 5 columns</p>\n",
       "</div>"
      ],
      "text/plain": [
       "          Country  Year        Value Continent  Internet_Users_Pct\n",
       "0     Afghanistan  2014  2102.385234      Asia            6.390000\n",
       "1     Afghanistan  2013  2116.465454      Asia            5.900000\n",
       "2     Afghanistan  2012  2075.491747      Asia            5.454545\n",
       "3     Afghanistan  2011  1904.559799      Asia            5.000000\n",
       "4     Afghanistan  2010  1957.029338      Asia            4.000000\n",
       "...           ...   ...          ...       ...                 ...\n",
       "3453     Zimbabwe  1997  3580.048793    Africa            0.033080\n",
       "3454     Zimbabwe  1996  3520.430146    Africa            0.016790\n",
       "3455     Zimbabwe  1995  3226.413930    Africa            0.007684\n",
       "3456     Zimbabwe  1994  3263.934978    Africa            0.001739\n",
       "3457     Zimbabwe  1990  3324.348171    Africa            0.000000\n",
       "\n",
       "[3458 rows x 5 columns]"
      ]
     },
     "execution_count": 318,
     "metadata": {},
     "output_type": "execute_result"
    }
   ],
   "source": [
    "gdp_and_internet_use"
   ]
  },
  {
   "cell_type": "markdown",
   "id": "6bcd20ba",
   "metadata": {},
   "source": [
    "# Problem 28\n",
    "Create a new DataFrame, named gdp_and_internet_use_2014 by extracting data for the year 2014 from gdp_and_internet_use. How many countries have at least 90% internet users in 2014?"
   ]
  },
  {
   "cell_type": "code",
   "execution_count": 321,
   "id": "727e2ae7",
   "metadata": {},
   "outputs": [
    {
     "data": {
      "text/html": [
       "<div>\n",
       "<style scoped>\n",
       "    .dataframe tbody tr th:only-of-type {\n",
       "        vertical-align: middle;\n",
       "    }\n",
       "\n",
       "    .dataframe tbody tr th {\n",
       "        vertical-align: top;\n",
       "    }\n",
       "\n",
       "    .dataframe thead th {\n",
       "        text-align: right;\n",
       "    }\n",
       "</style>\n",
       "<table border=\"1\" class=\"dataframe\">\n",
       "  <thead>\n",
       "    <tr style=\"text-align: right;\">\n",
       "      <th></th>\n",
       "      <th>Country</th>\n",
       "      <th>Year</th>\n",
       "      <th>Value</th>\n",
       "      <th>Continent</th>\n",
       "      <th>Internet_Users_Pct</th>\n",
       "    </tr>\n",
       "  </thead>\n",
       "  <tbody>\n",
       "    <tr>\n",
       "      <th>0</th>\n",
       "      <td>Afghanistan</td>\n",
       "      <td>2014</td>\n",
       "      <td>2102.385234</td>\n",
       "      <td>Asia</td>\n",
       "      <td>6.39</td>\n",
       "    </tr>\n",
       "    <tr>\n",
       "      <th>13</th>\n",
       "      <td>Albania</td>\n",
       "      <td>2014</td>\n",
       "      <td>11623.866679</td>\n",
       "      <td>Europe</td>\n",
       "      <td>60.10</td>\n",
       "    </tr>\n",
       "    <tr>\n",
       "      <th>34</th>\n",
       "      <td>Algeria</td>\n",
       "      <td>2014</td>\n",
       "      <td>11512.705405</td>\n",
       "      <td>Africa</td>\n",
       "      <td>18.09</td>\n",
       "    </tr>\n",
       "    <tr>\n",
       "      <th>56</th>\n",
       "      <td>Angola</td>\n",
       "      <td>2014</td>\n",
       "      <td>8239.828837</td>\n",
       "      <td>Africa</td>\n",
       "      <td>21.26</td>\n",
       "    </tr>\n",
       "    <tr>\n",
       "      <th>76</th>\n",
       "      <td>Antigua and Barbuda</td>\n",
       "      <td>2014</td>\n",
       "      <td>18104.241470</td>\n",
       "      <td>North America</td>\n",
       "      <td>64.00</td>\n",
       "    </tr>\n",
       "    <tr>\n",
       "      <th>...</th>\n",
       "      <td>...</td>\n",
       "      <td>...</td>\n",
       "      <td>...</td>\n",
       "      <td>...</td>\n",
       "      <td>...</td>\n",
       "    </tr>\n",
       "    <tr>\n",
       "      <th>3351</th>\n",
       "      <td>Uruguay</td>\n",
       "      <td>2014</td>\n",
       "      <td>20582.168953</td>\n",
       "      <td>South America</td>\n",
       "      <td>61.46</td>\n",
       "    </tr>\n",
       "    <tr>\n",
       "      <th>3373</th>\n",
       "      <td>Uzbekistan</td>\n",
       "      <td>2014</td>\n",
       "      <td>5764.492705</td>\n",
       "      <td>Asia</td>\n",
       "      <td>43.55</td>\n",
       "    </tr>\n",
       "    <tr>\n",
       "      <th>3394</th>\n",
       "      <td>Vanuatu</td>\n",
       "      <td>2014</td>\n",
       "      <td>3116.077025</td>\n",
       "      <td>Oceania</td>\n",
       "      <td>18.80</td>\n",
       "    </tr>\n",
       "    <tr>\n",
       "      <th>3414</th>\n",
       "      <td>Zambia</td>\n",
       "      <td>2014</td>\n",
       "      <td>3450.046561</td>\n",
       "      <td>Africa</td>\n",
       "      <td>17.34</td>\n",
       "    </tr>\n",
       "    <tr>\n",
       "      <th>3436</th>\n",
       "      <td>Zimbabwe</td>\n",
       "      <td>2014</td>\n",
       "      <td>2955.240287</td>\n",
       "      <td>Africa</td>\n",
       "      <td>19.89</td>\n",
       "    </tr>\n",
       "  </tbody>\n",
       "</table>\n",
       "<p>163 rows × 5 columns</p>\n",
       "</div>"
      ],
      "text/plain": [
       "                  Country  Year         Value      Continent  \\\n",
       "0             Afghanistan  2014   2102.385234           Asia   \n",
       "13                Albania  2014  11623.866679         Europe   \n",
       "34                Algeria  2014  11512.705405         Africa   \n",
       "56                 Angola  2014   8239.828837         Africa   \n",
       "76    Antigua and Barbuda  2014  18104.241470  North America   \n",
       "...                   ...   ...           ...            ...   \n",
       "3351              Uruguay  2014  20582.168953  South America   \n",
       "3373           Uzbekistan  2014   5764.492705           Asia   \n",
       "3394              Vanuatu  2014   3116.077025        Oceania   \n",
       "3414               Zambia  2014   3450.046561         Africa   \n",
       "3436             Zimbabwe  2014   2955.240287         Africa   \n",
       "\n",
       "      Internet_Users_Pct  \n",
       "0                   6.39  \n",
       "13                 60.10  \n",
       "34                 18.09  \n",
       "56                 21.26  \n",
       "76                 64.00  \n",
       "...                  ...  \n",
       "3351               61.46  \n",
       "3373               43.55  \n",
       "3394               18.80  \n",
       "3414               17.34  \n",
       "3436               19.89  \n",
       "\n",
       "[163 rows x 5 columns]"
      ]
     },
     "execution_count": 321,
     "metadata": {},
     "output_type": "execute_result"
    }
   ],
   "source": [
    "gdp_and_internet_use_2014 = gdp_and_internet_use[gdp_and_internet_use['Year'] == 2014]\n",
    "gdp_and_internet_use_2014"
   ]
  },
  {
   "cell_type": "code",
   "execution_count": 325,
   "id": "dd2d6728",
   "metadata": {},
   "outputs": [
    {
     "data": {
      "text/plain": [
       "13"
      ]
     },
     "execution_count": 325,
     "metadata": {},
     "output_type": "execute_result"
    }
   ],
   "source": [
    "# Countries with at least 90% internet usage in 2014\n",
    "gdp_and_internet_use_2014.loc[gdp_and_internet_use_2014['Internet_Users_Pct'] >= 90, 'Country'].count()"
   ]
  },
  {
   "cell_type": "markdown",
   "id": "3bbe9351",
   "metadata": {},
   "source": [
    "# Problem 29\n",
    "Find the countries that had the top 3 largest GDP per capita figures for 2014. \n",
    "\n",
    "Create a seaborn FacetGrid showing the change in internet user percentage over time for these three countries. Each individual figure in the facet grid will represent a single country. What trends do you notice?"
   ]
  },
  {
   "cell_type": "code",
   "execution_count": 327,
   "id": "71725cf8",
   "metadata": {},
   "outputs": [
    {
     "data": {
      "text/html": [
       "<div>\n",
       "<style scoped>\n",
       "    .dataframe tbody tr th:only-of-type {\n",
       "        vertical-align: middle;\n",
       "    }\n",
       "\n",
       "    .dataframe tbody tr th {\n",
       "        vertical-align: top;\n",
       "    }\n",
       "\n",
       "    .dataframe thead th {\n",
       "        text-align: right;\n",
       "    }\n",
       "</style>\n",
       "<table border=\"1\" class=\"dataframe\">\n",
       "  <thead>\n",
       "    <tr style=\"text-align: right;\">\n",
       "      <th></th>\n",
       "      <th>Country</th>\n",
       "      <th>Year</th>\n",
       "      <th>Value</th>\n",
       "      <th>Continent</th>\n",
       "      <th>Internet_Users_Pct</th>\n",
       "    </tr>\n",
       "  </thead>\n",
       "  <tbody>\n",
       "    <tr>\n",
       "      <th>1798</th>\n",
       "      <td>Luxembourg</td>\n",
       "      <td>2014</td>\n",
       "      <td>108760.916030</td>\n",
       "      <td>Europe</td>\n",
       "      <td>94.67</td>\n",
       "    </tr>\n",
       "    <tr>\n",
       "      <th>2542</th>\n",
       "      <td>Qatar</td>\n",
       "      <td>2014</td>\n",
       "      <td>95578.416973</td>\n",
       "      <td>Asia</td>\n",
       "      <td>91.49</td>\n",
       "    </tr>\n",
       "    <tr>\n",
       "      <th>2751</th>\n",
       "      <td>Singapore</td>\n",
       "      <td>2014</td>\n",
       "      <td>87808.663157</td>\n",
       "      <td>Asia</td>\n",
       "      <td>82.00</td>\n",
       "    </tr>\n",
       "  </tbody>\n",
       "</table>\n",
       "</div>"
      ],
      "text/plain": [
       "         Country  Year          Value Continent  Internet_Users_Pct\n",
       "1798  Luxembourg  2014  108760.916030    Europe               94.67\n",
       "2542       Qatar  2014   95578.416973      Asia               91.49\n",
       "2751   Singapore  2014   87808.663157      Asia               82.00"
      ]
     },
     "execution_count": 327,
     "metadata": {},
     "output_type": "execute_result"
    }
   ],
   "source": [
    "# Top 3 GDP per capita in 2014\n",
    "gdp_and_internet_use_2014.nlargest(3, 'Value')"
   ]
  },
  {
   "cell_type": "code",
   "execution_count": 328,
   "id": "8a06d32d",
   "metadata": {},
   "outputs": [
    {
     "data": {
      "text/plain": [
       "<seaborn.axisgrid.FacetGrid at 0x25eb5561520>"
      ]
     },
     "execution_count": 328,
     "metadata": {},
     "output_type": "execute_result"
    },
    {
     "data": {
      "image/png": "[encoded data removed]",
      "text/plain": [
       "<Figure size 1080x360 with 3 Axes>"
      ]
     },
     "metadata": {
      "needs_background": "dark"
     },
     "output_type": "display_data"
    }
   ],
   "source": [
    "# Create a seaborn FacetGrid showing the change in internet user percentage over time for these three countries.\n",
    "# Each individual figure in the facet grid will represent a single country. \n",
    "\n",
    "gdp_top3_2014 = gdp_and_internet_use_2014.nlargest(3, 'Value')['Country']\n",
    "sns.relplot(x = 'Year', y = 'Internet_Users_Pct', data = gdp_and_internet_use[gdp_and_internet_use['Country'].isin(gdp_top3_2014)], col = 'Country')"
   ]
  },
  {
   "cell_type": "markdown",
   "id": "43bc8753",
   "metadata": {},
   "source": [
    "All of these countries have steadily increased. Qatar started 10 years late than the others, which each began in the first year that we start to see internet usage reported.\n",
    "\n",
    "Luxembourg takes almost exactly a cube-root graphical shape, and Singapore's is similar.\n",
    "\n",
    "Each of the three graphs flattens for two or three years around 2010."
   ]
  },
  {
   "cell_type": "markdown",
   "id": "dcfb32a5",
   "metadata": {},
   "source": [
    "# Problem 30\n",
    "Create a scatter plot of Internet Use vs GDP per Capita for the year 2014. What do you notice?"
   ]
  },
  {
   "cell_type": "code",
   "execution_count": 331,
   "id": "b0aef1b2",
   "metadata": {},
   "outputs": [
    {
     "data": {
      "image/png": "[encoded data removed]",
      "text/plain": [
       "<Figure size 360x360 with 1 Axes>"
      ]
     },
     "metadata": {
      "needs_background": "dark"
     },
     "output_type": "display_data"
    }
   ],
   "source": [
    "_ = sns.relplot(x = 'Value', y = 'Internet_Users_Pct', data = gdp_and_internet_use_2014)"
   ]
  },
  {
   "cell_type": "markdown",
   "id": "6aaf66df",
   "metadata": {},
   "source": [
    "The data takes an almost perfectly logarithmic shape."
   ]
  },
  {
   "cell_type": "markdown",
   "id": "d906e490",
   "metadata": {},
   "source": [
    "# Problem 31\n",
    "Find the correlation between GDP per Capita and Internet Use for the year 2014. What is the meaning of this number?"
   ]
  },
  {
   "cell_type": "code",
   "execution_count": 332,
   "id": "0d3a5562",
   "metadata": {},
   "outputs": [
    {
     "data": {
      "text/html": [
       "<div>\n",
       "<style scoped>\n",
       "    .dataframe tbody tr th:only-of-type {\n",
       "        vertical-align: middle;\n",
       "    }\n",
       "\n",
       "    .dataframe tbody tr th {\n",
       "        vertical-align: top;\n",
       "    }\n",
       "\n",
       "    .dataframe thead th {\n",
       "        text-align: right;\n",
       "    }\n",
       "</style>\n",
       "<table border=\"1\" class=\"dataframe\">\n",
       "  <thead>\n",
       "    <tr style=\"text-align: right;\">\n",
       "      <th></th>\n",
       "      <th>Year</th>\n",
       "      <th>Value</th>\n",
       "      <th>Internet_Users_Pct</th>\n",
       "    </tr>\n",
       "  </thead>\n",
       "  <tbody>\n",
       "    <tr>\n",
       "      <th>Year</th>\n",
       "      <td>NaN</td>\n",
       "      <td>NaN</td>\n",
       "      <td>NaN</td>\n",
       "    </tr>\n",
       "    <tr>\n",
       "      <th>Value</th>\n",
       "      <td>NaN</td>\n",
       "      <td>1.000000</td>\n",
       "      <td>0.824627</td>\n",
       "    </tr>\n",
       "    <tr>\n",
       "      <th>Internet_Users_Pct</th>\n",
       "      <td>NaN</td>\n",
       "      <td>0.824627</td>\n",
       "      <td>1.000000</td>\n",
       "    </tr>\n",
       "  </tbody>\n",
       "</table>\n",
       "</div>"
      ],
      "text/plain": [
       "                    Year     Value  Internet_Users_Pct\n",
       "Year                 NaN       NaN                 NaN\n",
       "Value                NaN  1.000000            0.824627\n",
       "Internet_Users_Pct   NaN  0.824627            1.000000"
      ]
     },
     "execution_count": 332,
     "metadata": {},
     "output_type": "execute_result"
    }
   ],
   "source": [
    "gdp_and_internet_use_2014.corr()"
   ]
  },
  {
   "cell_type": "markdown",
   "id": "fc23e962",
   "metadata": {},
   "source": [
    "r = 0.824627. This number measures the strength of the linear correlation between Internet_Users_Pct and GDP per capita. There is a strong, positive linear correlation between these two variables."
   ]
  },
  {
   "cell_type": "markdown",
   "id": "5b55708e",
   "metadata": {},
   "source": [
    "# Problem 32\n",
    "Add a column to gdp_and_internet_use_2014 and calculate the logarithm of GDP per capita. Find the correlation between the log of GDP per capita and internet users percentage. How does this compare to the calculation in the previous part?"
   ]
  },
  {
   "cell_type": "code",
   "execution_count": 336,
   "id": "48490fac",
   "metadata": {
    "scrolled": true
   },
   "outputs": [
    {
     "name": "stderr",
     "output_type": "stream",
     "text": [
      "<ipython-input-336-4eb6cb6f6da3>:1: SettingWithCopyWarning: \n",
      "A value is trying to be set on a copy of a slice from a DataFrame.\n",
      "Try using .loc[row_indexer,col_indexer] = value instead\n",
      "\n",
      "See the caveats in the documentation: https://pandas.pydata.org/pandas-docs/stable/user_guide/indexing.html#returning-a-view-versus-a-copy\n",
      "  gdp_and_internet_use_2014['Value_Log'] = np.log(gdp_and_internet_use_2014['Value'])\n"
     ]
    },
    {
     "data": {
      "text/html": [
       "<div>\n",
       "<style scoped>\n",
       "    .dataframe tbody tr th:only-of-type {\n",
       "        vertical-align: middle;\n",
       "    }\n",
       "\n",
       "    .dataframe tbody tr th {\n",
       "        vertical-align: top;\n",
       "    }\n",
       "\n",
       "    .dataframe thead th {\n",
       "        text-align: right;\n",
       "    }\n",
       "</style>\n",
       "<table border=\"1\" class=\"dataframe\">\n",
       "  <thead>\n",
       "    <tr style=\"text-align: right;\">\n",
       "      <th></th>\n",
       "      <th>Year</th>\n",
       "      <th>Value</th>\n",
       "      <th>Internet_Users_Pct</th>\n",
       "      <th>Value_Log</th>\n",
       "    </tr>\n",
       "  </thead>\n",
       "  <tbody>\n",
       "    <tr>\n",
       "      <th>Year</th>\n",
       "      <td>NaN</td>\n",
       "      <td>NaN</td>\n",
       "      <td>NaN</td>\n",
       "      <td>NaN</td>\n",
       "    </tr>\n",
       "    <tr>\n",
       "      <th>Value</th>\n",
       "      <td>NaN</td>\n",
       "      <td>1.000000</td>\n",
       "      <td>0.824627</td>\n",
       "      <td>0.864009</td>\n",
       "    </tr>\n",
       "    <tr>\n",
       "      <th>Internet_Users_Pct</th>\n",
       "      <td>NaN</td>\n",
       "      <td>0.824627</td>\n",
       "      <td>1.000000</td>\n",
       "      <td>0.903987</td>\n",
       "    </tr>\n",
       "    <tr>\n",
       "      <th>Value_Log</th>\n",
       "      <td>NaN</td>\n",
       "      <td>0.864009</td>\n",
       "      <td>0.903987</td>\n",
       "      <td>1.000000</td>\n",
       "    </tr>\n",
       "  </tbody>\n",
       "</table>\n",
       "</div>"
      ],
      "text/plain": [
       "                    Year     Value  Internet_Users_Pct  Value_Log\n",
       "Year                 NaN       NaN                 NaN        NaN\n",
       "Value                NaN  1.000000            0.824627   0.864009\n",
       "Internet_Users_Pct   NaN  0.824627            1.000000   0.903987\n",
       "Value_Log            NaN  0.864009            0.903987   1.000000"
      ]
     },
     "execution_count": 336,
     "metadata": {},
     "output_type": "execute_result"
    }
   ],
   "source": [
    "gdp_and_internet_use_2014['Value_Log'] = np.log(gdp_and_internet_use_2014['Value'])\n",
    "gdp_and_internet_use_2014.corr()"
   ]
  },
  {
   "cell_type": "markdown",
   "id": "26f11243",
   "metadata": {},
   "source": [
    "The correlation with logarithmic GDP values is even stronger!"
   ]
  },
  {
   "cell_type": "markdown",
   "id": "1c1681dc",
   "metadata": {},
   "source": [
    "# Problem 33\n",
    "Filter the original dataset down to just the United States for all available years. Calculate correlation between internet use and gdp per capita. Is this meaningful or useful?"
   ]
  },
  {
   "cell_type": "code",
   "execution_count": 339,
   "id": "0390b052",
   "metadata": {
    "scrolled": true
   },
   "outputs": [
    {
     "data": {
      "text/plain": [
       "<seaborn.axisgrid.FacetGrid at 0x25eb5862bb0>"
      ]
     },
     "execution_count": 339,
     "metadata": {},
     "output_type": "execute_result"
    },
    {
     "data": {
      "image/png": "[encoded data removed]",
      "text/plain": [
       "<Figure size 360x360 with 1 Axes>"
      ]
     },
     "metadata": {
      "needs_background": "dark"
     },
     "output_type": "display_data"
    }
   ],
   "source": [
    "usa_usa = gdp_and_internet_use[gdp_and_internet_use['Country'] == 'United States']\n",
    "sns.relplot(x = 'Value', y = 'Internet_Users_Pct', data = usa_usa)"
   ]
  },
  {
   "cell_type": "code",
   "execution_count": 340,
   "id": "d35092dc",
   "metadata": {},
   "outputs": [
    {
     "data": {
      "text/html": [
       "<div>\n",
       "<style scoped>\n",
       "    .dataframe tbody tr th:only-of-type {\n",
       "        vertical-align: middle;\n",
       "    }\n",
       "\n",
       "    .dataframe tbody tr th {\n",
       "        vertical-align: top;\n",
       "    }\n",
       "\n",
       "    .dataframe thead th {\n",
       "        text-align: right;\n",
       "    }\n",
       "</style>\n",
       "<table border=\"1\" class=\"dataframe\">\n",
       "  <thead>\n",
       "    <tr style=\"text-align: right;\">\n",
       "      <th></th>\n",
       "      <th>Year</th>\n",
       "      <th>Value</th>\n",
       "      <th>Internet_Users_Pct</th>\n",
       "    </tr>\n",
       "  </thead>\n",
       "  <tbody>\n",
       "    <tr>\n",
       "      <th>Year</th>\n",
       "      <td>1.000000</td>\n",
       "      <td>0.96344</td>\n",
       "      <td>0.969113</td>\n",
       "    </tr>\n",
       "    <tr>\n",
       "      <th>Value</th>\n",
       "      <td>0.963440</td>\n",
       "      <td>1.00000</td>\n",
       "      <td>0.991660</td>\n",
       "    </tr>\n",
       "    <tr>\n",
       "      <th>Internet_Users_Pct</th>\n",
       "      <td>0.969113</td>\n",
       "      <td>0.99166</td>\n",
       "      <td>1.000000</td>\n",
       "    </tr>\n",
       "  </tbody>\n",
       "</table>\n",
       "</div>"
      ],
      "text/plain": [
       "                        Year    Value  Internet_Users_Pct\n",
       "Year                1.000000  0.96344            0.969113\n",
       "Value               0.963440  1.00000            0.991660\n",
       "Internet_Users_Pct  0.969113  0.99166            1.000000"
      ]
     },
     "execution_count": 340,
     "metadata": {},
     "output_type": "execute_result"
    }
   ],
   "source": [
    "usa_usa.corr()"
   ]
  },
  {
   "cell_type": "markdown",
   "id": "5ad79ceb",
   "metadata": {},
   "source": [
    "There is a very strong linear correlation and a nearly perfect logarithmic correlation between the variables. This might be useful in studying the USA specifically; however, we wouldn't want to generalize to all countries, nor would we want to assume causality between these two variables."
   ]
  },
  {
   "cell_type": "markdown",
   "id": "fbe4dcdb",
   "metadata": {},
   "source": [
    "# Solo Exploration\n",
    "# Problem SE1\n",
    "Choose and download another data set from the UN data http://data.un.org/Explorer.aspx to merge with your data and explore. Prepare a short (< 5 minute) presentation of your findings. Report any interesting correlations you find. Include visualizations and consider adding interactivity with ipywidgets. This presentation can be done either in a Jupyter Notebook or using another presentation software, such as PowerPoint. Check out Jupyter Slides if you have time. This allows you to turn your jupyter notebook into a slideshow."
   ]
  },
  {
   "cell_type": "code",
   "execution_count": null,
   "id": "b77d20d8",
   "metadata": {},
   "outputs": [],
   "source": []
  },
  {
   "cell_type": "markdown",
   "id": "b23e0dd3",
   "metadata": {},
   "source": [
    "# Problem SE2\n",
    "If time allows, check out the plotly library to add additional interativity to your plots. https://plotly.com/python/plotly-express/."
   ]
  },
  {
   "cell_type": "code",
   "execution_count": null,
   "id": "daa44300",
   "metadata": {},
   "outputs": [],
   "source": []
  }
 ],
 "metadata": {
  "kernelspec": {
   "display_name": "Python 3",
   "language": "python",
   "name": "python3"
  },
  "language_info": {
   "codemirror_mode": {
    "name": "ipython",
    "version": 3
   },
   "file_extension": ".py",
   "mimetype": "text/x-python",
   "name": "python",
   "nbconvert_exporter": "python",
   "pygments_lexer": "ipython3",
   "version": "3.8.8"
  }
 },
 "nbformat": 4,
 "nbformat_minor": 5
}
